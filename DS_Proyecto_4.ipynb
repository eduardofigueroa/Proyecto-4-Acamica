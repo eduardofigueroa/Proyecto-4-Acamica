{
 "cells": [
  {
   "cell_type": "markdown",
   "metadata": {
    "colab_type": "text",
    "id": "2GRQnxMzISE_"
   },
   "source": [
    "# Proyecto 4: Informe Final Carrera\n",
    "\n",
    "## Resumen del proyecto\n",
    "\n",
    "Profundiza y ajusta la resolución de tus proyectos. Agrega una fuente de datos, prueba un modelo nuevo o responde una pregunta nueva. Elabora un informe final que describa el proceso de toma de decisiones. Sustenta la razón por la cual usaste las librerías y aplicaste los métodos al dataset. Todos tus hallazgos deberán ser comunicados en función de la problemática y las preguntas que buscabas responder."
   ]
  },
  {
   "cell_type": "markdown",
   "metadata": {},
   "source": [
    "# ¡Bienvenidos al cuarto proyecto!"
   ]
  },
  {
   "cell_type": "markdown",
   "metadata": {},
   "source": [
    "## Link en GitHub para este proyecto: "
   ]
  },
  {
   "cell_type": "markdown",
   "metadata": {},
   "source": [
    "### ¿Por qué procesamiento de Lenguaje Natural (NLP)?\n",
    "\n",
    "\n",
    "\n",
    "Decidí elegir NLP, ya que, considero que estamos inmersos en palabras.Somos lenguaje\n",
    "\n",
    "Es por ello, que trabajar en este proyecto era darle una oprotunidad a ir un poco mas alla de las interpretaciones comunes y en mi caso generar un aprendisaje que pueda usar en mi profesion como medico.\n",
    "Particularmente la medicina esta llena de palabras que determinan tratamientos,farmacos diagnosticos y su procesamienot nos puede traer mucha informacion. Asi por eso decidi conocer un poco mas sobre esto ."
   ]
  },
  {
   "cell_type": "markdown",
   "metadata": {},
   "source": [
    "### ¿Cómo pensé la resolución a este proyecto?\n",
    "\n",
    "Tal como comenté al final del proyecto 3, mi idea era mejorar el rendimiento de la clasificación binaria.\n",
    "Link Proyecto 3: https://github.com/eduardofigueroa/Proyecto-ACAMICA-3\n",
    "\n",
    "**NOTA**: El proyecto 3 se basó en implementar un modelo que, dada la crítica de un producto, asigne la cantidad de estrellas correspondientes. En una segunda parte, se convertió en un problema de Machine Learning binario, es decir, se asignaron únicamente etiquetas Positivas y Negativas a cada crítica y por lo tanto, hacer un modelo que, en lugar de predecir las estrellas, prediga esa etiqueta. \n",
    "\n",
    "Para lograr mejorar el rendimiento de la clasificación binaria, pensé en abordar este tema de dos maneras (las cuales son complementarias, claro!):\n",
    "\n",
    "- Profundizar en el Análisis Exploratorio de datos (EDA): \n",
    "\n",
    "El objetivo era mejorar las palabras o bloques de palabras que alimentarán al vectorizado. La importancia de esto, radica en que serán éstas las palabras que luego serán vectorizadas, por ello es importante, que sean palabras que se ajusten de mejor manera a las clases. Entre las acciones para esto, investigaré a fondo las palabras que se encuentran dentro de las `stop words` que ofrece la librería spaCy, para determinar si hay algunas que valdrían la pena que no sean consideradas como tales. \n",
    "\n",
    "- Implementar un nuevo modelo:\n",
    "\n",
    "Para realizar esta segunda parte pensé en aplicar redes neuronales. He leído que funcionan de muy buena manera para los problemas de clasificación. Además, tal como era solicitado en la consigna, es un método nuevo, no aplicado hasta el momento en el proyecto 3. Cabe destacar que redes neuronales no fue parte de las clases dadas, sino que hubo solo una introducción del tema en un workshop."
   ]
  },
  {
   "cell_type": "markdown",
   "metadata": {},
   "source": [
    "El proyecto estará dividido de la siguiente manera:\n",
    "\n"
   ]
  },
  {
   "cell_type": "markdown",
   "metadata": {},
   "source": [
    "### Parte A: profundización en el Análisis Exloratorio de Datos (EDA) \n",
    "\n",
    "- Cargo todas las librerías para el proyecto completo\n",
    "- Cargo todos los dataset (TRAIN, DEV, TEST)\n",
    "- Columnas a usar \n",
    "- Normalización de los dataset\n",
    "\t- Elimino los emojis y emoticones\n",
    "\t- Elimino los números \n",
    "\t- Llevo a minúsculas, elimino puntuaciones, elimino `stop words`y hago la lemmatización. \n",
    "\t- Cambio vocales con acento por vocales sin acento\n",
    "    - Corroboro la existencia de valores faltantes luego de toda la limpieza en los datasets\n",
    "- Pregunta: ¿La modificación de las stopwords tuvo algún impacto en las etiquetas positivas y negativas?\n",
    "\n",
    "\n",
    "### Parte B: Modelo benchmark\n",
    "\n",
    "- Modelo\n",
    "- Accuracy y matriz de confusión\n",
    "\n",
    "### Parte C: Mejora del modelo benchmark\n",
    "\n",
    "- Asignación de etiquetas\n",
    "- Distribución de acuerdo a la etiqueta\n",
    "- Elección de la métrica de evaluación\n",
    "- Encodeado de etiquetas\n",
    "- Vectorizado\n",
    "- Red neuronal artificial\n",
    "- Comparación con el modelo benchmark"
   ]
  },
  {
   "cell_type": "markdown",
   "metadata": {},
   "source": [
    "# Parte A: profundización en el Análisis Exloratorio de Datos (EDA) "
   ]
  },
  {
   "cell_type": "markdown",
   "metadata": {},
   "source": [
    "- Cargo todas las librerías para el proyecto completo"
   ]
  },
  {
   "cell_type": "code",
   "execution_count": 1,
   "metadata": {
    "ExecuteTime": {
     "end_time": "2020-10-31T13:12:31.979035Z",
     "start_time": "2020-10-31T13:12:25.634022Z"
    }
   },
   "outputs": [
    {
     "name": "stderr",
     "output_type": "stream",
     "text": [
      "Using TensorFlow backend.\n"
     ]
    }
   ],
   "source": [
    "import re\n",
    "import string\n",
    "import numpy as np\n",
    "import pandas as pd\n",
    "import random\n",
    "import matplotlib.pyplot as plt\n",
    "import seaborn as sns\n",
    "import itertools\n",
    "import spacy\n",
    "from spacy.lang.es.stop_words import STOP_WORDS\n",
    "from spacy.lang.es import Spanish\n",
    "import warnings\n",
    "warnings.filterwarnings(\"ignore\")\n",
    "from collections import Counter\n",
    "from sklearn.feature_extraction.text import TfidfVectorizer\n",
    "import gc \n",
    "import winsound\n",
    "from sklearn.metrics import accuracy_score, confusion_matrix\n",
    "import tensorflow as tf\n",
    "from numpy.random import seed\n",
    "from keras.models import Sequential\n",
    "from keras import layers\n",
    "from keras.layers import Dropout\n",
    "from keras.utils import plot_model\n",
    "from plot_keras_history import plot_history\n",
    "import sklearn.model_selection\n",
    "import sklearn.preprocessing\n",
    "import keras\n",
    "from keras.regularizers import l2"
   ]
  },
  {
   "cell_type": "code",
   "execution_count": 2,
   "metadata": {
    "ExecuteTime": {
     "end_time": "2020-10-31T13:12:31.994000Z",
     "start_time": "2020-10-31T13:12:31.981009Z"
    }
   },
   "outputs": [],
   "source": [
    "#Para notificar el final de un proceso (útil para aquellos de larga duración)\n",
    "duration = 1000  # milliseconds\n",
    "freq = 440  # Hz"
   ]
  },
  {
   "cell_type": "markdown",
   "metadata": {},
   "source": [
    "- Cargo todos los dataset (TRAIN, DEV, TEST)"
   ]
  },
  {
   "cell_type": "code",
   "execution_count": 3,
   "metadata": {
    "ExecuteTime": {
     "end_time": "2020-10-31T13:12:33.561241Z",
     "start_time": "2020-10-31T13:12:31.996967Z"
    }
   },
   "outputs": [
    {
     "name": "stdout",
     "output_type": "stream",
     "text": [
      "(200000, 8)\n"
     ]
    },
    {
     "data": {
      "text/html": [
       "<div>\n",
       "<style scoped>\n",
       "    .dataframe tbody tr th:only-of-type {\n",
       "        vertical-align: middle;\n",
       "    }\n",
       "\n",
       "    .dataframe tbody tr th {\n",
       "        vertical-align: top;\n",
       "    }\n",
       "\n",
       "    .dataframe thead th {\n",
       "        text-align: right;\n",
       "    }\n",
       "</style>\n",
       "<table border=\"1\" class=\"dataframe\">\n",
       "  <thead>\n",
       "    <tr style=\"text-align: right;\">\n",
       "      <th></th>\n",
       "      <th>review_id</th>\n",
       "      <th>product_id</th>\n",
       "      <th>reviewer_id</th>\n",
       "      <th>stars</th>\n",
       "      <th>review_body</th>\n",
       "      <th>review_title</th>\n",
       "      <th>language</th>\n",
       "      <th>product_category</th>\n",
       "    </tr>\n",
       "  </thead>\n",
       "  <tbody>\n",
       "    <tr>\n",
       "      <th>0</th>\n",
       "      <td>es_0491108</td>\n",
       "      <td>product_es_0296024</td>\n",
       "      <td>reviewer_es_0999081</td>\n",
       "      <td>1</td>\n",
       "      <td>Nada bueno se me fue ka pantalla en menos de 8...</td>\n",
       "      <td>television Nevir</td>\n",
       "      <td>es</td>\n",
       "      <td>electronics</td>\n",
       "    </tr>\n",
       "    <tr>\n",
       "      <th>1</th>\n",
       "      <td>es_0869872</td>\n",
       "      <td>product_es_0922286</td>\n",
       "      <td>reviewer_es_0216771</td>\n",
       "      <td>1</td>\n",
       "      <td>Horrible, nos tuvimos que comprar otro porque ...</td>\n",
       "      <td>Dinero tirado a la basura con esta compra</td>\n",
       "      <td>es</td>\n",
       "      <td>electronics</td>\n",
       "    </tr>\n",
       "    <tr>\n",
       "      <th>2</th>\n",
       "      <td>es_0811721</td>\n",
       "      <td>product_es_0474543</td>\n",
       "      <td>reviewer_es_0929213</td>\n",
       "      <td>1</td>\n",
       "      <td>Te obligan a comprar dos unidades y te llega s...</td>\n",
       "      <td>solo llega una unidad cuando te obligan a comp...</td>\n",
       "      <td>es</td>\n",
       "      <td>drugstore</td>\n",
       "    </tr>\n",
       "    <tr>\n",
       "      <th>3</th>\n",
       "      <td>es_0359921</td>\n",
       "      <td>product_es_0656090</td>\n",
       "      <td>reviewer_es_0224702</td>\n",
       "      <td>1</td>\n",
       "      <td>No entro en descalificar al vendedor, solo pue...</td>\n",
       "      <td>PRODUCTO NO RECIBIDO.</td>\n",
       "      <td>es</td>\n",
       "      <td>wireless</td>\n",
       "    </tr>\n",
       "    <tr>\n",
       "      <th>4</th>\n",
       "      <td>es_0068940</td>\n",
       "      <td>product_es_0662544</td>\n",
       "      <td>reviewer_es_0224827</td>\n",
       "      <td>1</td>\n",
       "      <td>Llega tarde y co la talla equivocada</td>\n",
       "      <td>Devuelto</td>\n",
       "      <td>es</td>\n",
       "      <td>shoes</td>\n",
       "    </tr>\n",
       "  </tbody>\n",
       "</table>\n",
       "</div>"
      ],
      "text/plain": [
       "    review_id          product_id          reviewer_id  stars  \\\n",
       "0  es_0491108  product_es_0296024  reviewer_es_0999081      1   \n",
       "1  es_0869872  product_es_0922286  reviewer_es_0216771      1   \n",
       "2  es_0811721  product_es_0474543  reviewer_es_0929213      1   \n",
       "3  es_0359921  product_es_0656090  reviewer_es_0224702      1   \n",
       "4  es_0068940  product_es_0662544  reviewer_es_0224827      1   \n",
       "\n",
       "                                         review_body  \\\n",
       "0  Nada bueno se me fue ka pantalla en menos de 8...   \n",
       "1  Horrible, nos tuvimos que comprar otro porque ...   \n",
       "2  Te obligan a comprar dos unidades y te llega s...   \n",
       "3  No entro en descalificar al vendedor, solo pue...   \n",
       "4               Llega tarde y co la talla equivocada   \n",
       "\n",
       "                                        review_title language product_category  \n",
       "0                                   television Nevir       es      electronics  \n",
       "1          Dinero tirado a la basura con esta compra       es      electronics  \n",
       "2  solo llega una unidad cuando te obligan a comp...       es        drugstore  \n",
       "3                              PRODUCTO NO RECIBIDO.       es         wireless  \n",
       "4                                           Devuelto       es            shoes  "
      ]
     },
     "execution_count": 3,
     "metadata": {},
     "output_type": "execute_result"
    }
   ],
   "source": [
    "#Cargo el dataset TRAIN\n",
    "dataset_train = pd.read_json('dataset_es_train.json', lines=True)\n",
    "print(dataset_train.shape)\n",
    "dataset_train.head()"
   ]
  },
  {
   "cell_type": "code",
   "execution_count": 4,
   "metadata": {
    "ExecuteTime": {
     "end_time": "2020-10-31T13:12:33.640064Z",
     "start_time": "2020-10-31T13:12:33.564234Z"
    },
    "scrolled": true
   },
   "outputs": [
    {
     "name": "stdout",
     "output_type": "stream",
     "text": [
      "(5000, 8)\n"
     ]
    },
    {
     "data": {
      "text/html": [
       "<div>\n",
       "<style scoped>\n",
       "    .dataframe tbody tr th:only-of-type {\n",
       "        vertical-align: middle;\n",
       "    }\n",
       "\n",
       "    .dataframe tbody tr th {\n",
       "        vertical-align: top;\n",
       "    }\n",
       "\n",
       "    .dataframe thead th {\n",
       "        text-align: right;\n",
       "    }\n",
       "</style>\n",
       "<table border=\"1\" class=\"dataframe\">\n",
       "  <thead>\n",
       "    <tr style=\"text-align: right;\">\n",
       "      <th></th>\n",
       "      <th>review_id</th>\n",
       "      <th>product_id</th>\n",
       "      <th>reviewer_id</th>\n",
       "      <th>stars</th>\n",
       "      <th>review_body</th>\n",
       "      <th>review_title</th>\n",
       "      <th>language</th>\n",
       "      <th>product_category</th>\n",
       "    </tr>\n",
       "  </thead>\n",
       "  <tbody>\n",
       "    <tr>\n",
       "      <th>0</th>\n",
       "      <td>es_0417480</td>\n",
       "      <td>product_es_0873923</td>\n",
       "      <td>reviewer_es_0672978</td>\n",
       "      <td>1</td>\n",
       "      <td>Malisimo, muy grande demasiado aparatoso y mal...</td>\n",
       "      <td>Mala compra</td>\n",
       "      <td>es</td>\n",
       "      <td>wireless</td>\n",
       "    </tr>\n",
       "    <tr>\n",
       "      <th>1</th>\n",
       "      <td>es_0180432</td>\n",
       "      <td>product_es_0713146</td>\n",
       "      <td>reviewer_es_0100858</td>\n",
       "      <td>1</td>\n",
       "      <td>No he recibido el pedido no la devolución</td>\n",
       "      <td>No lo he recibido</td>\n",
       "      <td>es</td>\n",
       "      <td>apparel</td>\n",
       "    </tr>\n",
       "    <tr>\n",
       "      <th>2</th>\n",
       "      <td>es_0144850</td>\n",
       "      <td>product_es_0356874</td>\n",
       "      <td>reviewer_es_0486447</td>\n",
       "      <td>1</td>\n",
       "      <td>Tengo que buscar otro sistema, este no funcion...</td>\n",
       "      <td>Que no aprieta bien en el manillar</td>\n",
       "      <td>es</td>\n",
       "      <td>sports</td>\n",
       "    </tr>\n",
       "    <tr>\n",
       "      <th>3</th>\n",
       "      <td>es_0339629</td>\n",
       "      <td>product_es_0939832</td>\n",
       "      <td>reviewer_es_0894703</td>\n",
       "      <td>1</td>\n",
       "      <td>Utilicé las brocas de menor diámetro y se me d...</td>\n",
       "      <td>Brocas de mantequilla</td>\n",
       "      <td>es</td>\n",
       "      <td>home_improvement</td>\n",
       "    </tr>\n",
       "    <tr>\n",
       "      <th>4</th>\n",
       "      <td>es_0858362</td>\n",
       "      <td>product_es_0489066</td>\n",
       "      <td>reviewer_es_0887663</td>\n",
       "      <td>1</td>\n",
       "      <td>No me gusta su olor a viejo y aspecto malo</td>\n",
       "      <td>No me gusta</td>\n",
       "      <td>es</td>\n",
       "      <td>beauty</td>\n",
       "    </tr>\n",
       "  </tbody>\n",
       "</table>\n",
       "</div>"
      ],
      "text/plain": [
       "    review_id          product_id          reviewer_id  stars  \\\n",
       "0  es_0417480  product_es_0873923  reviewer_es_0672978      1   \n",
       "1  es_0180432  product_es_0713146  reviewer_es_0100858      1   \n",
       "2  es_0144850  product_es_0356874  reviewer_es_0486447      1   \n",
       "3  es_0339629  product_es_0939832  reviewer_es_0894703      1   \n",
       "4  es_0858362  product_es_0489066  reviewer_es_0887663      1   \n",
       "\n",
       "                                         review_body  \\\n",
       "0  Malisimo, muy grande demasiado aparatoso y mal...   \n",
       "1          No he recibido el pedido no la devolución   \n",
       "2  Tengo que buscar otro sistema, este no funcion...   \n",
       "3  Utilicé las brocas de menor diámetro y se me d...   \n",
       "4         No me gusta su olor a viejo y aspecto malo   \n",
       "\n",
       "                         review_title language  product_category  \n",
       "0                         Mala compra       es          wireless  \n",
       "1                   No lo he recibido       es           apparel  \n",
       "2  Que no aprieta bien en el manillar       es            sports  \n",
       "3               Brocas de mantequilla       es  home_improvement  \n",
       "4                         No me gusta       es            beauty  "
      ]
     },
     "execution_count": 4,
     "metadata": {},
     "output_type": "execute_result"
    }
   ],
   "source": [
    "#Cargo el dataset DEV\n",
    "dataset_dev = pd.read_json('dataset_es_dev.json', lines=True)\n",
    "print(dataset_dev.shape)\n",
    "dataset_dev.head()"
   ]
  },
  {
   "cell_type": "code",
   "execution_count": 5,
   "metadata": {
    "ExecuteTime": {
     "end_time": "2020-10-31T13:12:33.715860Z",
     "start_time": "2020-10-31T13:12:33.642024Z"
    },
    "scrolled": true
   },
   "outputs": [
    {
     "name": "stdout",
     "output_type": "stream",
     "text": [
      "(5000, 8)\n"
     ]
    },
    {
     "data": {
      "text/html": [
       "<div>\n",
       "<style scoped>\n",
       "    .dataframe tbody tr th:only-of-type {\n",
       "        vertical-align: middle;\n",
       "    }\n",
       "\n",
       "    .dataframe tbody tr th {\n",
       "        vertical-align: top;\n",
       "    }\n",
       "\n",
       "    .dataframe thead th {\n",
       "        text-align: right;\n",
       "    }\n",
       "</style>\n",
       "<table border=\"1\" class=\"dataframe\">\n",
       "  <thead>\n",
       "    <tr style=\"text-align: right;\">\n",
       "      <th></th>\n",
       "      <th>review_id</th>\n",
       "      <th>product_id</th>\n",
       "      <th>reviewer_id</th>\n",
       "      <th>stars</th>\n",
       "      <th>review_body</th>\n",
       "      <th>review_title</th>\n",
       "      <th>language</th>\n",
       "      <th>product_category</th>\n",
       "    </tr>\n",
       "  </thead>\n",
       "  <tbody>\n",
       "    <tr>\n",
       "      <th>0</th>\n",
       "      <td>es_0038754</td>\n",
       "      <td>product_es_0113523</td>\n",
       "      <td>reviewer_es_0580071</td>\n",
       "      <td>1</td>\n",
       "      <td>no me llego el articulo me lo mando por correo...</td>\n",
       "      <td>no me llego</td>\n",
       "      <td>es</td>\n",
       "      <td>wireless</td>\n",
       "    </tr>\n",
       "    <tr>\n",
       "      <th>1</th>\n",
       "      <td>es_0748979</td>\n",
       "      <td>product_es_0017036</td>\n",
       "      <td>reviewer_es_0819733</td>\n",
       "      <td>1</td>\n",
       "      <td>la mensajería horrible, no compro mas</td>\n",
       "      <td>amazon sigue sin cumplir en las entregas</td>\n",
       "      <td>es</td>\n",
       "      <td>home</td>\n",
       "    </tr>\n",
       "    <tr>\n",
       "      <th>2</th>\n",
       "      <td>es_0411746</td>\n",
       "      <td>product_es_0138642</td>\n",
       "      <td>reviewer_es_0508607</td>\n",
       "      <td>1</td>\n",
       "      <td>Estoy muy decepcionado con el vendedor ya que ...</td>\n",
       "      <td>ESTAFA EN EL ENVÍO</td>\n",
       "      <td>es</td>\n",
       "      <td>toy</td>\n",
       "    </tr>\n",
       "    <tr>\n",
       "      <th>3</th>\n",
       "      <td>es_0786686</td>\n",
       "      <td>product_es_0170887</td>\n",
       "      <td>reviewer_es_0491157</td>\n",
       "      <td>1</td>\n",
       "      <td>Mi valoración no es sobre el producto sino sob...</td>\n",
       "      <td>Estafa de Amazon</td>\n",
       "      <td>es</td>\n",
       "      <td>home</td>\n",
       "    </tr>\n",
       "    <tr>\n",
       "      <th>4</th>\n",
       "      <td>es_0429700</td>\n",
       "      <td>product_es_0710642</td>\n",
       "      <td>reviewer_es_0008745</td>\n",
       "      <td>1</td>\n",
       "      <td>Pues tenía interés en este libro y probé la ve...</td>\n",
       "      <td>No conseguí pasar de la portada en Kindle</td>\n",
       "      <td>es</td>\n",
       "      <td>digital_ebook_purchase</td>\n",
       "    </tr>\n",
       "  </tbody>\n",
       "</table>\n",
       "</div>"
      ],
      "text/plain": [
       "    review_id          product_id          reviewer_id  stars  \\\n",
       "0  es_0038754  product_es_0113523  reviewer_es_0580071      1   \n",
       "1  es_0748979  product_es_0017036  reviewer_es_0819733      1   \n",
       "2  es_0411746  product_es_0138642  reviewer_es_0508607      1   \n",
       "3  es_0786686  product_es_0170887  reviewer_es_0491157      1   \n",
       "4  es_0429700  product_es_0710642  reviewer_es_0008745      1   \n",
       "\n",
       "                                         review_body  \\\n",
       "0  no me llego el articulo me lo mando por correo...   \n",
       "1              la mensajería horrible, no compro mas   \n",
       "2  Estoy muy decepcionado con el vendedor ya que ...   \n",
       "3  Mi valoración no es sobre el producto sino sob...   \n",
       "4  Pues tenía interés en este libro y probé la ve...   \n",
       "\n",
       "                                review_title language        product_category  \n",
       "0                                no me llego       es                wireless  \n",
       "1   amazon sigue sin cumplir en las entregas       es                    home  \n",
       "2                         ESTAFA EN EL ENVÍO       es                     toy  \n",
       "3                           Estafa de Amazon       es                    home  \n",
       "4  No conseguí pasar de la portada en Kindle       es  digital_ebook_purchase  "
      ]
     },
     "execution_count": 5,
     "metadata": {},
     "output_type": "execute_result"
    }
   ],
   "source": [
    "#Cargo el dataset TEST\n",
    "dataset_test = pd.read_json('dataset_es_test.json', lines=True)\n",
    "print(dataset_test.shape)\n",
    "dataset_test.head()"
   ]
  },
  {
   "cell_type": "markdown",
   "metadata": {
    "ExecuteTime": {
     "end_time": "2020-10-15T22:21:46.557130Z",
     "start_time": "2020-10-15T22:21:46.542757Z"
    }
   },
   "source": [
    "- Columnas a usar "
   ]
  },
  {
   "cell_type": "markdown",
   "metadata": {},
   "source": [
    "Basado en la información que contienen, las columnas con las que trabajaré son: `stars`,`review_body` y `review_title`"
   ]
  },
  {
   "cell_type": "markdown",
   "metadata": {},
   "source": [
    "Por otro lado, decidí fusionar la información contenida en `review_title` y en `review_body` para poseer todo el texto junto y poder realizar el análisis conjunto de toda la información contenida en ellos."
   ]
  },
  {
   "cell_type": "code",
   "execution_count": 6,
   "metadata": {
    "ExecuteTime": {
     "end_time": "2020-10-31T13:12:33.965190Z",
     "start_time": "2020-10-31T13:12:33.717826Z"
    }
   },
   "outputs": [
    {
     "data": {
      "text/html": [
       "<div>\n",
       "<style scoped>\n",
       "    .dataframe tbody tr th:only-of-type {\n",
       "        vertical-align: middle;\n",
       "    }\n",
       "\n",
       "    .dataframe tbody tr th {\n",
       "        vertical-align: top;\n",
       "    }\n",
       "\n",
       "    .dataframe thead th {\n",
       "        text-align: right;\n",
       "    }\n",
       "</style>\n",
       "<table border=\"1\" class=\"dataframe\">\n",
       "  <thead>\n",
       "    <tr style=\"text-align: right;\">\n",
       "      <th></th>\n",
       "      <th>stars</th>\n",
       "      <th>review_title_body</th>\n",
       "    </tr>\n",
       "  </thead>\n",
       "  <tbody>\n",
       "    <tr>\n",
       "      <th>0</th>\n",
       "      <td>1</td>\n",
       "      <td>television Nevir Nada bueno se me fue ka panta...</td>\n",
       "    </tr>\n",
       "    <tr>\n",
       "      <th>1</th>\n",
       "      <td>1</td>\n",
       "      <td>Dinero tirado a la basura con esta compra Horr...</td>\n",
       "    </tr>\n",
       "    <tr>\n",
       "      <th>2</th>\n",
       "      <td>1</td>\n",
       "      <td>solo llega una unidad cuando te obligan a comp...</td>\n",
       "    </tr>\n",
       "    <tr>\n",
       "      <th>3</th>\n",
       "      <td>1</td>\n",
       "      <td>PRODUCTO NO RECIBIDO. No entro en descalificar...</td>\n",
       "    </tr>\n",
       "    <tr>\n",
       "      <th>4</th>\n",
       "      <td>1</td>\n",
       "      <td>Devuelto Llega tarde y co la talla equivocada</td>\n",
       "    </tr>\n",
       "    <tr>\n",
       "      <th>...</th>\n",
       "      <td>...</td>\n",
       "      <td>...</td>\n",
       "    </tr>\n",
       "    <tr>\n",
       "      <th>199995</th>\n",
       "      <td>5</td>\n",
       "      <td>Tal y como se describe Mando funciona perfecta...</td>\n",
       "    </tr>\n",
       "    <tr>\n",
       "      <th>199996</th>\n",
       "      <td>5</td>\n",
       "      <td>Funciona perfectamente Compré la batería con c...</td>\n",
       "    </tr>\n",
       "    <tr>\n",
       "      <th>199997</th>\n",
       "      <td>5</td>\n",
       "      <td>Buena calidad. Buena calidad. Satisfecha con l...</td>\n",
       "    </tr>\n",
       "    <tr>\n",
       "      <th>199998</th>\n",
       "      <td>5</td>\n",
       "      <td>Recomendado Perfecto para el cumple de mi hijo</td>\n",
       "    </tr>\n",
       "    <tr>\n",
       "      <th>199999</th>\n",
       "      <td>5</td>\n",
       "      <td>Preciosas Súper bien! Las brochas son buenas, ...</td>\n",
       "    </tr>\n",
       "  </tbody>\n",
       "</table>\n",
       "<p>200000 rows × 2 columns</p>\n",
       "</div>"
      ],
      "text/plain": [
       "        stars                                  review_title_body\n",
       "0           1  television Nevir Nada bueno se me fue ka panta...\n",
       "1           1  Dinero tirado a la basura con esta compra Horr...\n",
       "2           1  solo llega una unidad cuando te obligan a comp...\n",
       "3           1  PRODUCTO NO RECIBIDO. No entro en descalificar...\n",
       "4           1      Devuelto Llega tarde y co la talla equivocada\n",
       "...       ...                                                ...\n",
       "199995      5  Tal y como se describe Mando funciona perfecta...\n",
       "199996      5  Funciona perfectamente Compré la batería con c...\n",
       "199997      5  Buena calidad. Buena calidad. Satisfecha con l...\n",
       "199998      5     Recomendado Perfecto para el cumple de mi hijo\n",
       "199999      5  Preciosas Súper bien! Las brochas son buenas, ...\n",
       "\n",
       "[200000 rows x 2 columns]"
      ]
     },
     "execution_count": 6,
     "metadata": {},
     "output_type": "execute_result"
    }
   ],
   "source": [
    "#Combinar el texto en una sola columna: review_data y review_body en review_title_body para TRAIN\n",
    "dataset_train['review_title_body']  = dataset_train['review_title']+' '+dataset_train['review_body']\n",
    "del dataset_train['review_id']\n",
    "del dataset_train['product_id']\n",
    "del dataset_train['reviewer_id']\n",
    "del dataset_train['review_body']\n",
    "del dataset_train['review_title']\n",
    "del dataset_train['language']\n",
    "del dataset_train['product_category']\n",
    "\n",
    "dataset_train"
   ]
  },
  {
   "cell_type": "code",
   "execution_count": 7,
   "metadata": {
    "ExecuteTime": {
     "end_time": "2020-10-31T13:12:33.995116Z",
     "start_time": "2020-10-31T13:12:33.967156Z"
    }
   },
   "outputs": [],
   "source": [
    "#Combinar el texto en una sola columna: review_data y review_body en review_title_body para DEV\n",
    "dataset_dev['review_title_body']  = dataset_dev['review_title']+' '+dataset_dev['review_body']\n",
    "del dataset_dev['review_id']\n",
    "del dataset_dev['product_id']\n",
    "del dataset_dev['reviewer_id']\n",
    "del dataset_dev['review_body']\n",
    "del dataset_dev['review_title']\n",
    "del dataset_dev['language']\n",
    "del dataset_dev['product_category']"
   ]
  },
  {
   "cell_type": "code",
   "execution_count": 8,
   "metadata": {
    "ExecuteTime": {
     "end_time": "2020-10-31T13:12:34.027028Z",
     "start_time": "2020-10-31T13:12:33.998073Z"
    }
   },
   "outputs": [],
   "source": [
    "#Combinar el texto en una sola columna: review_data y review_body en review_title_body para TEST\n",
    "dataset_test['review_title_body']  = dataset_test['review_title']+' '+dataset_test['review_body']\n",
    "del dataset_test['review_id']\n",
    "del dataset_test['product_id']\n",
    "del dataset_test['reviewer_id']\n",
    "del dataset_test['review_body']\n",
    "del dataset_test['review_title']\n",
    "del dataset_test['language']\n",
    "del dataset_test['product_category']"
   ]
  },
  {
   "cell_type": "markdown",
   "metadata": {},
   "source": [
    "- Normalización de los dataset\n",
    "\n",
    "Consiste en llevar todo el texto a un formato común. Entre las acciones se incluyen: eliminar emojis, eliminar puntuaciones, eliminar palabras frecuentes o llamadas `stop words`, llevar a minúsculas, tokenizar (extraer oraciones o palabras dentro de un texto) y llevar las palabras a su raíz, mediante derivación regresiva, es decir, eliminando afijos de las palabras y encontrar la palabra raíz (palabra: increases --> incres) o mediante lematización, algo similar a la derivación regresiva, pero mas del mundo real (palabra: increases --> increase). "
   ]
  },
  {
   "cell_type": "markdown",
   "metadata": {},
   "source": [
    "    - Elimino los emojis y emoticones"
   ]
  },
  {
   "cell_type": "markdown",
   "metadata": {},
   "source": [
    "Eliminar los emojis para quedarme solo con palabras."
   ]
  },
  {
   "cell_type": "code",
   "execution_count": 9,
   "metadata": {
    "ExecuteTime": {
     "end_time": "2020-10-31T13:12:34.801051Z",
     "start_time": "2020-10-31T13:12:34.029993Z"
    }
   },
   "outputs": [
    {
     "data": {
      "text/html": [
       "<div>\n",
       "<style scoped>\n",
       "    .dataframe tbody tr th:only-of-type {\n",
       "        vertical-align: middle;\n",
       "    }\n",
       "\n",
       "    .dataframe tbody tr th {\n",
       "        vertical-align: top;\n",
       "    }\n",
       "\n",
       "    .dataframe thead th {\n",
       "        text-align: right;\n",
       "    }\n",
       "</style>\n",
       "<table border=\"1\" class=\"dataframe\">\n",
       "  <thead>\n",
       "    <tr style=\"text-align: right;\">\n",
       "      <th></th>\n",
       "      <th>stars</th>\n",
       "      <th>review_title_body</th>\n",
       "    </tr>\n",
       "  </thead>\n",
       "  <tbody>\n",
       "    <tr>\n",
       "      <th>0</th>\n",
       "      <td>1</td>\n",
       "      <td>television Nevir Nada bueno se me fue ka panta...</td>\n",
       "    </tr>\n",
       "    <tr>\n",
       "      <th>1</th>\n",
       "      <td>1</td>\n",
       "      <td>Dinero tirado a la basura con esta compra Horr...</td>\n",
       "    </tr>\n",
       "    <tr>\n",
       "      <th>2</th>\n",
       "      <td>1</td>\n",
       "      <td>solo llega una unidad cuando te obligan a comp...</td>\n",
       "    </tr>\n",
       "    <tr>\n",
       "      <th>3</th>\n",
       "      <td>1</td>\n",
       "      <td>PRODUCTO NO RECIBIDO. No entro en descalificar...</td>\n",
       "    </tr>\n",
       "    <tr>\n",
       "      <th>4</th>\n",
       "      <td>1</td>\n",
       "      <td>Devuelto Llega tarde y co la talla equivocada</td>\n",
       "    </tr>\n",
       "    <tr>\n",
       "      <th>...</th>\n",
       "      <td>...</td>\n",
       "      <td>...</td>\n",
       "    </tr>\n",
       "    <tr>\n",
       "      <th>199995</th>\n",
       "      <td>5</td>\n",
       "      <td>Tal y como se describe Mando funciona perfecta...</td>\n",
       "    </tr>\n",
       "    <tr>\n",
       "      <th>199996</th>\n",
       "      <td>5</td>\n",
       "      <td>Funciona perfectamente Compré la batería con c...</td>\n",
       "    </tr>\n",
       "    <tr>\n",
       "      <th>199997</th>\n",
       "      <td>5</td>\n",
       "      <td>Buena calidad. Buena calidad. Satisfecha con l...</td>\n",
       "    </tr>\n",
       "    <tr>\n",
       "      <th>199998</th>\n",
       "      <td>5</td>\n",
       "      <td>Recomendado Perfecto para el cumple de mi hijo</td>\n",
       "    </tr>\n",
       "    <tr>\n",
       "      <th>199999</th>\n",
       "      <td>5</td>\n",
       "      <td>Preciosas Súper bien Las brochas son buenas, n...</td>\n",
       "    </tr>\n",
       "  </tbody>\n",
       "</table>\n",
       "<p>200000 rows × 2 columns</p>\n",
       "</div>"
      ],
      "text/plain": [
       "        stars                                  review_title_body\n",
       "0           1  television Nevir Nada bueno se me fue ka panta...\n",
       "1           1  Dinero tirado a la basura con esta compra Horr...\n",
       "2           1  solo llega una unidad cuando te obligan a comp...\n",
       "3           1  PRODUCTO NO RECIBIDO. No entro en descalificar...\n",
       "4           1      Devuelto Llega tarde y co la talla equivocada\n",
       "...       ...                                                ...\n",
       "199995      5  Tal y como se describe Mando funciona perfecta...\n",
       "199996      5  Funciona perfectamente Compré la batería con c...\n",
       "199997      5  Buena calidad. Buena calidad. Satisfecha con l...\n",
       "199998      5     Recomendado Perfecto para el cumple de mi hijo\n",
       "199999      5  Preciosas Súper bien Las brochas son buenas, n...\n",
       "\n",
       "[200000 rows x 2 columns]"
      ]
     },
     "execution_count": 9,
     "metadata": {},
     "output_type": "execute_result"
    }
   ],
   "source": [
    "#Elimino los emojis de dataset TRAIN\n",
    "dataset_train['review_title_body'] = dataset_train['review_title_body'].str.replace('[^\\w\\s#@/:%.,_-]', '', flags=re.UNICODE)\n",
    "dataset_train"
   ]
  },
  {
   "cell_type": "code",
   "execution_count": 10,
   "metadata": {
    "ExecuteTime": {
     "end_time": "2020-10-31T13:12:34.831969Z",
     "start_time": "2020-10-31T13:12:34.804044Z"
    }
   },
   "outputs": [],
   "source": [
    "#Elimino los emojis del dataset DEV\n",
    "dataset_dev['review_title_body'] = dataset_dev['review_title_body'].str.replace('[^\\w\\s#@/:%.,_-]', '', flags=re.UNICODE)"
   ]
  },
  {
   "cell_type": "code",
   "execution_count": 11,
   "metadata": {
    "ExecuteTime": {
     "end_time": "2020-10-31T13:12:34.877879Z",
     "start_time": "2020-10-31T13:12:34.834961Z"
    }
   },
   "outputs": [],
   "source": [
    "#Elimino los emojis del dataset TEST\n",
    "dataset_test['review_title_body'] = dataset_test['review_title_body'].str.replace('[^\\w\\s#@/:%.,_-]', '', flags=re.UNICODE)"
   ]
  },
  {
   "cell_type": "markdown",
   "metadata": {},
   "source": [
    "    - Elimino los números "
   ]
  },
  {
   "cell_type": "markdown",
   "metadata": {},
   "source": [
    "En los datasets, solo quería quedarme con palabras, por lo que la existencia de números consideraba que no iban a aportar información y por ello los quité."
   ]
  },
  {
   "cell_type": "code",
   "execution_count": 12,
   "metadata": {
    "ExecuteTime": {
     "end_time": "2020-10-31T13:12:39.583327Z",
     "start_time": "2020-10-31T13:12:34.880838Z"
    }
   },
   "outputs": [],
   "source": [
    "no_number_train=[]\n",
    "for review in dataset_train.review_title_body:\n",
    "    # Vamos a reemplzar los caracteres que no sean leras por espacios\n",
    "    review = re.sub(\"[^A-Za-záéíóúÁÉÍÓÚÑñü]\",\" \",str(review))\n",
    "    review = re.sub(' +', ' ',str(review))\n",
    "    no_number_train.append(review)"
   ]
  },
  {
   "cell_type": "code",
   "execution_count": 13,
   "metadata": {
    "ExecuteTime": {
     "end_time": "2020-10-31T13:12:39.645144Z",
     "start_time": "2020-10-31T13:12:39.586302Z"
    }
   },
   "outputs": [],
   "source": [
    "dataset_train['review_title_body'] = no_number_train"
   ]
  },
  {
   "cell_type": "code",
   "execution_count": 14,
   "metadata": {
    "ExecuteTime": {
     "end_time": "2020-10-31T13:12:39.797737Z",
     "start_time": "2020-10-31T13:12:39.648137Z"
    }
   },
   "outputs": [],
   "source": [
    "no_number_dev=[]\n",
    "for review in dataset_dev.review_title_body:\n",
    "    # Vamos a reemplzar los caracteres que no sean leras por espacios\n",
    "    review = re.sub(\"[^A-Za-záéíóúÁÉÍÓÚÑñü]\",\" \",str(review))\n",
    "    review = re.sub(' +', ' ',str(review))\n",
    "    no_number_dev.append(review)"
   ]
  },
  {
   "cell_type": "code",
   "execution_count": 15,
   "metadata": {
    "ExecuteTime": {
     "end_time": "2020-10-31T13:12:39.812696Z",
     "start_time": "2020-10-31T13:12:39.800737Z"
    }
   },
   "outputs": [],
   "source": [
    "dataset_dev['review_title_body'] = no_number_dev"
   ]
  },
  {
   "cell_type": "code",
   "execution_count": 16,
   "metadata": {
    "ExecuteTime": {
     "end_time": "2020-10-31T13:12:39.985382Z",
     "start_time": "2020-10-31T13:12:39.815691Z"
    }
   },
   "outputs": [],
   "source": [
    "no_number_test=[]\n",
    "for review in dataset_test.review_title_body:\n",
    "    # Vamos a reemplzar los caracteres que no sean leras por espacios\n",
    "    review = re.sub(\"[^A-Za-záéíóúÁÉÍÓÚÑñü]\",\" \",str(review))\n",
    "    review = re.sub(' +', ' ',str(review))\n",
    "    no_number_test.append(review)"
   ]
  },
  {
   "cell_type": "code",
   "execution_count": 17,
   "metadata": {
    "ExecuteTime": {
     "end_time": "2020-10-31T13:12:40.000302Z",
     "start_time": "2020-10-31T13:12:39.986340Z"
    }
   },
   "outputs": [],
   "source": [
    "dataset_test['review_title_body'] = no_number_test"
   ]
  },
  {
   "cell_type": "markdown",
   "metadata": {},
   "source": [
    "    - Llevo a minúsculas, elimino puntuaciones, elimino stop words y hago la lemmatización. "
   ]
  },
  {
   "cell_type": "markdown",
   "metadata": {},
   "source": [
    "El llevar a minúsculas, permite que palabras iguales, que solo se diferencien en si están todas o parcialmente escritas en mayúsculas, no sean consideradas como palabras diferentes.\n",
    "\n",
    "Las puntuaciones, no aportan información, y no es el objetivo, que lo mas frecuente sea un signo de puntuación.\n",
    "\n",
    "Por otro lado, las `stop words` son un conjunto de palabras de uso común en un idioma. Ejemplo son \"a\", \"la\", \"el\", \"es\", \"son\", etc. Al eliminar las palabras con poca información del texto, solo nos quedamos con las palabras importantes.\n",
    "\n",
    "Por último, la lematización es el proceso de convertir una palabra a su forma básica. Así por ejemplo, palabras como riendo, rien...se lemmatizan a la palabra reir, teniendo una sola palabra."
   ]
  },
  {
   "cell_type": "markdown",
   "metadata": {},
   "source": [
    "**NOTA**: para realizar toda esta parte utilicé la librería spaCy. Decidí usar esta librería, ya que, es la recomendada para el idioma español. Pude probar otras alternativas, pero el mejor resultado lo obtuve con spaCy. "
   ]
  },
  {
   "cell_type": "markdown",
   "metadata": {},
   "source": [
    "**NOTA 2:** el modelo que decidí utlizar de la librería spaCy es 'es_core_news_lg'. La librería ofrece tres modelos para el idioma español: los modelos centrales sm, md y lg de spaCy se entrenaron con los mismos datos en las mismas condiciones. La única diferencia son los vectores que se incluyen, que se utilizan como características y, por lo tanto, tienen un impacto en la precisión del modelo."
   ]
  },
  {
   "cell_type": "markdown",
   "metadata": {},
   "source": [
    "**NOTA 3:** basándome en haber corrido varias veces la función `normalize` y haber analizado los resultados subsiguientes, decido incorporar otras palabras, como si fueran stop words (**'otros'**). "
   ]
  },
  {
   "cell_type": "markdown",
   "metadata": {},
   "source": [
    "**MODIFICACIONES AL PROYECTO 3** \n",
    "\n",
    "Al evaluar las palabras consideradas como stopwords en el idioma español, dentro de ellas, se incluían palabras como **no, si, sí, bien, buen, bueno, buenos, buena, buenas, peor, bajo, mal, mejor, nada**. Decidí considerar estas palabras como **'no stop words'** ya que considero que son palabras claves para definir si un comentario tiene un sentido mas positivo o mas negativo. "
   ]
  },
  {
   "cell_type": "code",
   "execution_count": 18,
   "metadata": {
    "ExecuteTime": {
     "end_time": "2020-10-31T13:12:40.015297Z",
     "start_time": "2020-10-31T13:12:40.002297Z"
    }
   },
   "outputs": [],
   "source": [
    "#Imprimo las stopwords del idioma español\n",
    "stops = spacy.lang.es.stop_words.STOP_WORDS\n",
    "#stops"
   ]
  },
  {
   "cell_type": "code",
   "execution_count": 19,
   "metadata": {
    "ExecuteTime": {
     "end_time": "2020-10-31T13:12:44.187783Z",
     "start_time": "2020-10-31T13:12:40.017293Z"
    }
   },
   "outputs": [],
   "source": [
    "#Función patra llevar a minúsculas, eliminar stopwords, puntuaciones y lemmatizar\n",
    "\n",
    "nlp = spacy.load('es_core_news_lg')\n",
    "\n",
    "def normalize(comment, lowercase, remove_stopwords):\n",
    "    \n",
    "    punctuations = string.punctuation\n",
    "    stops = spacy.lang.es.stop_words.STOP_WORDS\n",
    "    non_stops = ['no', 'si', 'sí', 'bien','buen','bueno','buenos','buena','buenas','peor', 'bajo', 'mal', 'mejor','nada']\n",
    "    otros = ['y', 'e', 'a', 'o', 'para', 'pare', 'paro', 'como', 'q','..','...','....', '.....','.......', '...........',\n",
    "             '¡','¿']\n",
    "\n",
    "    if lowercase:\n",
    "        comment = comment.lower()\n",
    "    comment = nlp(comment)\n",
    "    lemmatized = list()\n",
    "    for word in comment:\n",
    "        if word.text not in non_stops:\n",
    "            if not remove_stopwords or (remove_stopwords and word.text not in stops): \n",
    "                if word.text not in punctuations:\n",
    "                    if word.text not in otros:\n",
    "                        lemma = word.lemma_.strip()\n",
    "                        lemmatized.append(lemma)\n",
    "        elif word.text in non_stops:\n",
    "            lemma = word.lemma_.strip()\n",
    "            lemmatized.append(lemma)\n",
    "            \n",
    "    return \" \".join(lemmatized)"
   ]
  },
  {
   "cell_type": "code",
   "execution_count": 20,
   "metadata": {
    "ExecuteTime": {
     "end_time": "2020-10-31T13:46:13.903056Z",
     "start_time": "2020-10-31T13:12:44.189364Z"
    }
   },
   "outputs": [
    {
     "data": {
      "text/html": [
       "<div>\n",
       "<style scoped>\n",
       "    .dataframe tbody tr th:only-of-type {\n",
       "        vertical-align: middle;\n",
       "    }\n",
       "\n",
       "    .dataframe tbody tr th {\n",
       "        vertical-align: top;\n",
       "    }\n",
       "\n",
       "    .dataframe thead th {\n",
       "        text-align: right;\n",
       "    }\n",
       "</style>\n",
       "<table border=\"1\" class=\"dataframe\">\n",
       "  <thead>\n",
       "    <tr style=\"text-align: right;\">\n",
       "      <th></th>\n",
       "      <th>stars</th>\n",
       "      <th>review_title_body</th>\n",
       "      <th>clean</th>\n",
       "    </tr>\n",
       "  </thead>\n",
       "  <tbody>\n",
       "    <tr>\n",
       "      <th>0</th>\n",
       "      <td>1</td>\n",
       "      <td>television Nevir Nada bueno se me fue ka panta...</td>\n",
       "      <td>television nevir nadar bueno ka pantalla mesar...</td>\n",
       "    </tr>\n",
       "    <tr>\n",
       "      <th>1</th>\n",
       "      <td>1</td>\n",
       "      <td>Dinero tirado a la basura con esta compra Horr...</td>\n",
       "      <td>dinero tirar basura comprar horrible tener com...</td>\n",
       "    </tr>\n",
       "    <tr>\n",
       "      <th>2</th>\n",
       "      <td>1</td>\n",
       "      <td>solo llega una unidad cuando te obligan a comp...</td>\n",
       "      <td>llegar unidad obligar comprar obligar comprar ...</td>\n",
       "    </tr>\n",
       "    <tr>\n",
       "      <th>3</th>\n",
       "      <td>1</td>\n",
       "      <td>PRODUCTO NO RECIBIDO No entro en descalificar ...</td>\n",
       "      <td>producto no recibir no entrar descalificar ven...</td>\n",
       "    </tr>\n",
       "    <tr>\n",
       "      <th>4</th>\n",
       "      <td>1</td>\n",
       "      <td>Devuelto Llega tarde y co la talla equivocada</td>\n",
       "      <td>devolver llegar co tallar equivocar</td>\n",
       "    </tr>\n",
       "    <tr>\n",
       "      <th>...</th>\n",
       "      <td>...</td>\n",
       "      <td>...</td>\n",
       "      <td>...</td>\n",
       "    </tr>\n",
       "    <tr>\n",
       "      <th>199995</th>\n",
       "      <td>5</td>\n",
       "      <td>Tal y como se describe Mando funciona perfecta...</td>\n",
       "      <td>describir mandar funcionar perfectamente cumpl...</td>\n",
       "    </tr>\n",
       "    <tr>\n",
       "      <th>199996</th>\n",
       "      <td>5</td>\n",
       "      <td>Funciona perfectamente Compré la batería con c...</td>\n",
       "      <td>funcionar perfectamente comprar batería retice...</td>\n",
       "    </tr>\n",
       "    <tr>\n",
       "      <th>199997</th>\n",
       "      <td>5</td>\n",
       "      <td>Buena calidad Buena calidad Satisfecha con la ...</td>\n",
       "      <td>bueno calidad bueno calidad satisfacer comprar</td>\n",
       "    </tr>\n",
       "    <tr>\n",
       "      <th>199998</th>\n",
       "      <td>5</td>\n",
       "      <td>Recomendado Perfecto para el cumple de mi hijo</td>\n",
       "      <td>recomendar perfecto cumplir hijo</td>\n",
       "    </tr>\n",
       "    <tr>\n",
       "      <th>199999</th>\n",
       "      <td>5</td>\n",
       "      <td>Preciosas Súper bien Las brochas son buenas no...</td>\n",
       "      <td>precioso súper bien brocha bueno no caer pelit...</td>\n",
       "    </tr>\n",
       "  </tbody>\n",
       "</table>\n",
       "<p>200000 rows × 3 columns</p>\n",
       "</div>"
      ],
      "text/plain": [
       "        stars                                  review_title_body  \\\n",
       "0           1  television Nevir Nada bueno se me fue ka panta...   \n",
       "1           1  Dinero tirado a la basura con esta compra Horr...   \n",
       "2           1  solo llega una unidad cuando te obligan a comp...   \n",
       "3           1  PRODUCTO NO RECIBIDO No entro en descalificar ...   \n",
       "4           1      Devuelto Llega tarde y co la talla equivocada   \n",
       "...       ...                                                ...   \n",
       "199995      5  Tal y como se describe Mando funciona perfecta...   \n",
       "199996      5  Funciona perfectamente Compré la batería con c...   \n",
       "199997      5  Buena calidad Buena calidad Satisfecha con la ...   \n",
       "199998      5     Recomendado Perfecto para el cumple de mi hijo   \n",
       "199999      5  Preciosas Súper bien Las brochas son buenas no...   \n",
       "\n",
       "                                                    clean  \n",
       "0       television nevir nadar bueno ka pantalla mesar...  \n",
       "1       dinero tirar basura comprar horrible tener com...  \n",
       "2       llegar unidad obligar comprar obligar comprar ...  \n",
       "3       producto no recibir no entrar descalificar ven...  \n",
       "4                     devolver llegar co tallar equivocar  \n",
       "...                                                   ...  \n",
       "199995  describir mandar funcionar perfectamente cumpl...  \n",
       "199996  funcionar perfectamente comprar batería retice...  \n",
       "199997     bueno calidad bueno calidad satisfacer comprar  \n",
       "199998                   recomendar perfecto cumplir hijo  \n",
       "199999  precioso súper bien brocha bueno no caer pelit...  \n",
       "\n",
       "[200000 rows x 3 columns]"
      ]
     },
     "execution_count": 20,
     "metadata": {},
     "output_type": "execute_result"
    }
   ],
   "source": [
    "#Aplico la función normalize para TRAIN y creo la columna clean\n",
    "dataset_train['clean'] = dataset_train['review_title_body'].apply(normalize, lowercase=True, remove_stopwords=True)\n",
    "dataset_train"
   ]
  },
  {
   "cell_type": "code",
   "execution_count": 21,
   "metadata": {
    "ExecuteTime": {
     "end_time": "2020-10-31T13:47:03.837307Z",
     "start_time": "2020-10-31T13:46:13.906048Z"
    }
   },
   "outputs": [],
   "source": [
    "#Aplico la función normalize para DEV y creo la columna clean\n",
    "dataset_dev['clean'] = dataset_dev['review_title_body'].apply(normalize, lowercase=True, remove_stopwords=True)"
   ]
  },
  {
   "cell_type": "code",
   "execution_count": 22,
   "metadata": {
    "ExecuteTime": {
     "end_time": "2020-10-31T13:47:53.587622Z",
     "start_time": "2020-10-31T13:47:03.839316Z"
    }
   },
   "outputs": [],
   "source": [
    "#Aplico la función normalize para TEST y creo la columna clean\n",
    "dataset_test['clean'] = dataset_test['review_title_body'].apply(normalize, lowercase=True, remove_stopwords=True)"
   ]
  },
  {
   "cell_type": "code",
   "execution_count": 23,
   "metadata": {
    "ExecuteTime": {
     "end_time": "2020-10-31T13:47:53.603313Z",
     "start_time": "2020-10-31T13:47:53.593338Z"
    }
   },
   "outputs": [],
   "source": [
    "#winsound.Beep(freq, duration)"
   ]
  },
  {
   "cell_type": "markdown",
   "metadata": {},
   "source": [
    "    - Cambio vocales con acento por vocales sin acento"
   ]
  },
  {
   "cell_type": "markdown",
   "metadata": {},
   "source": [
    "En el caso del idioma español, es importante quitar los acentos, ya que escribir **batería** o **bateria**, serían la misma palabra, pero a nivel de análisis, serían consideradas como dos palabras diferentes."
   ]
  },
  {
   "cell_type": "code",
   "execution_count": 24,
   "metadata": {
    "ExecuteTime": {
     "end_time": "2020-10-31T13:47:54.321332Z",
     "start_time": "2020-10-31T13:47:53.607300Z"
    }
   },
   "outputs": [],
   "source": [
    "#Quito los acentos al dataset TRAIN\n",
    "dataset_train['clean'] = dataset_train['clean'].str.replace(u\"á\", \"a\")\n",
    "dataset_train['clean'] = dataset_train['clean'].str.replace(u\"é\", \"e\")\n",
    "dataset_train['clean'] = dataset_train['clean'].str.replace(u\"í\", \"i\")\n",
    "dataset_train['clean'] = dataset_train['clean'].str.replace(u\"ó\", \"o\")\n",
    "dataset_train['clean'] = dataset_train['clean'].str.replace(u\"ú\", \"u\")"
   ]
  },
  {
   "cell_type": "code",
   "execution_count": 25,
   "metadata": {
    "ExecuteTime": {
     "end_time": "2020-10-31T13:47:54.352461Z",
     "start_time": "2020-10-31T13:47:54.323361Z"
    }
   },
   "outputs": [],
   "source": [
    "#Quito los acentos al dataset DEV\n",
    "dataset_dev['clean'] = dataset_dev['clean'].str.replace(u\"á\", \"a\")\n",
    "dataset_dev['clean'] = dataset_dev['clean'].str.replace(u\"é\", \"e\")\n",
    "dataset_dev['clean'] = dataset_dev['clean'].str.replace(u\"í\", \"i\")\n",
    "dataset_dev['clean'] = dataset_dev['clean'].str.replace(u\"ó\", \"o\")\n",
    "dataset_dev['clean'] = dataset_dev['clean'].str.replace(u\"ú\", \"u\")"
   ]
  },
  {
   "cell_type": "code",
   "execution_count": 26,
   "metadata": {
    "ExecuteTime": {
     "end_time": "2020-10-31T13:47:54.383383Z",
     "start_time": "2020-10-31T13:47:54.355456Z"
    }
   },
   "outputs": [],
   "source": [
    "#Quito los acentos al dataset TEST\n",
    "dataset_test['clean'] = dataset_test['clean'].str.replace(u\"á\", \"a\")\n",
    "dataset_test['clean'] = dataset_test['clean'].str.replace(u\"é\", \"e\")\n",
    "dataset_test['clean'] = dataset_test['clean'].str.replace(u\"í\", \"i\")\n",
    "dataset_test['clean'] = dataset_test['clean'].str.replace(u\"ó\", \"o\")\n",
    "dataset_test['clean'] = dataset_test['clean'].str.replace(u\"ú\", \"u\")"
   ]
  },
  {
   "cell_type": "markdown",
   "metadata": {},
   "source": [
    "    - Corroboro la existencia de valores faltantes luego de toda la limpieza en los datasets"
   ]
  },
  {
   "cell_type": "code",
   "execution_count": 27,
   "metadata": {
    "ExecuteTime": {
     "end_time": "2020-10-31T13:47:54.398674Z",
     "start_time": "2020-10-31T13:47:54.386375Z"
    }
   },
   "outputs": [],
   "source": [
    "#Función para determinar valores faltantes por columnas\n",
    "def missing_values (data):\n",
    "    return data.isna().sum()"
   ]
  },
  {
   "cell_type": "code",
   "execution_count": 28,
   "metadata": {
    "ExecuteTime": {
     "end_time": "2020-10-31T13:47:54.444061Z",
     "start_time": "2020-10-31T13:47:54.400673Z"
    }
   },
   "outputs": [
    {
     "data": {
      "text/plain": [
       "stars                0\n",
       "review_title_body    0\n",
       "clean                0\n",
       "dtype: int64"
      ]
     },
     "execution_count": 28,
     "metadata": {},
     "output_type": "execute_result"
    }
   ],
   "source": [
    "#Valores faltantes por columnas en el dataset TRAIN\n",
    "missing_values (dataset_train)"
   ]
  },
  {
   "cell_type": "code",
   "execution_count": 29,
   "metadata": {
    "ExecuteTime": {
     "end_time": "2020-10-31T13:47:54.460083Z",
     "start_time": "2020-10-31T13:47:54.446025Z"
    }
   },
   "outputs": [
    {
     "data": {
      "text/plain": [
       "stars                0\n",
       "review_title_body    0\n",
       "clean                0\n",
       "dtype: int64"
      ]
     },
     "execution_count": 29,
     "metadata": {},
     "output_type": "execute_result"
    }
   ],
   "source": [
    "#Valores faltantes por columnas en el dataset DEV\n",
    "missing_values (dataset_dev)"
   ]
  },
  {
   "cell_type": "code",
   "execution_count": 30,
   "metadata": {
    "ExecuteTime": {
     "end_time": "2020-10-31T13:47:54.476041Z",
     "start_time": "2020-10-31T13:47:54.462084Z"
    }
   },
   "outputs": [
    {
     "data": {
      "text/plain": [
       "stars                0\n",
       "review_title_body    0\n",
       "clean                0\n",
       "dtype: int64"
      ]
     },
     "execution_count": 30,
     "metadata": {},
     "output_type": "execute_result"
    }
   ],
   "source": [
    "#Valores faltantes por columnas en el dataset TEST\n",
    "missing_values (dataset_test)"
   ]
  },
  {
   "cell_type": "markdown",
   "metadata": {},
   "source": [
    "Como se observa, luego de toda la limpieza de los dataset TRAIN, DEV y TEST, no hay datos faltantes."
   ]
  },
  {
   "cell_type": "code",
   "execution_count": 31,
   "metadata": {
    "ExecuteTime": {
     "end_time": "2020-10-31T13:47:54.597824Z",
     "start_time": "2020-10-31T13:47:54.479034Z"
    }
   },
   "outputs": [
    {
     "data": {
      "text/plain": [
       "230"
      ]
     },
     "execution_count": 31,
     "metadata": {},
     "output_type": "execute_result"
    }
   ],
   "source": [
    "gc.collect()"
   ]
  },
  {
   "cell_type": "markdown",
   "metadata": {},
   "source": [
    "**¿La modificación de las stopwords tuvo algún impacto en las etiquetas positivas y negativas?**"
   ]
  },
  {
   "cell_type": "markdown",
   "metadata": {},
   "source": [
    "- Asignación de etiquetas"
   ]
  },
  {
   "cell_type": "markdown",
   "metadata": {},
   "source": [
    "La asignación de las etiquetas como positivas y negativas, las definí como:\n",
    "\n",
    "- Etiquetas `negativa`: estrellas ≤ 3 \n",
    "- Etiquetas `positiva`: 3 < puntaje de calificación ≤ 5"
   ]
  },
  {
   "cell_type": "markdown",
   "metadata": {},
   "source": [
    "- Se calcularan las palabras mas frecuentes por etiqueta"
   ]
  },
  {
   "cell_type": "code",
   "execution_count": 32,
   "metadata": {
    "ExecuteTime": {
     "end_time": "2020-10-31T13:47:54.643886Z",
     "start_time": "2020-10-31T13:47:54.599823Z"
    }
   },
   "outputs": [],
   "source": [
    "#Dataset para etiqueta negativas\n",
    "dataset_negativo = dataset_train.loc[((dataset_train['stars'] == 1) |\n",
    "                                      (dataset_train['stars'] == 2) |\n",
    "                                      (dataset_train['stars'] == 3))]\n",
    "\n",
    "#Dataset para etiqueta positivas\n",
    "dataset_positivo = dataset_train.loc[((dataset_train['stars'] == 4) |\n",
    "                                      (dataset_train['stars'] == 5))]"
   ]
  },
  {
   "cell_type": "code",
   "execution_count": 33,
   "metadata": {
    "ExecuteTime": {
     "end_time": "2020-10-31T13:47:54.658922Z",
     "start_time": "2020-10-31T13:47:54.644839Z"
    }
   },
   "outputs": [],
   "source": [
    "def tokenizar_lista(data):\n",
    "    nombre_lista = []\n",
    "    for i in range(data.shape[0]):\n",
    "        token = data.iloc[i].clean\n",
    "        token = nlp(token) \n",
    "        nombre_lista.append(token)\n",
    "    return nombre_lista"
   ]
  },
  {
   "cell_type": "code",
   "execution_count": 34,
   "metadata": {
    "ExecuteTime": {
     "end_time": "2020-10-31T14:14:39.528718Z",
     "start_time": "2020-10-31T13:47:54.660863Z"
    }
   },
   "outputs": [],
   "source": [
    "#Tokenizar y generar una lista con las palabras tokenizadas para las etiquetas negativas\n",
    "lista_token_neg = tokenizar_lista(dataset_negativo)\n",
    "\n",
    "#Tokenizar y generar una lista con las palabras tokenizadas para las etiquetas positivas\n",
    "lista_token_pos = tokenizar_lista(dataset_positivo)"
   ]
  },
  {
   "cell_type": "code",
   "execution_count": 35,
   "metadata": {
    "ExecuteTime": {
     "end_time": "2020-10-31T14:14:39.543683Z",
     "start_time": "2020-10-31T14:14:39.531744Z"
    }
   },
   "outputs": [],
   "source": [
    "#Función para convertir una lista de listas en una única lista\n",
    "def only_list(data_lista):   \n",
    "    data_lista = list(itertools.chain(*data_lista))\n",
    "    #Para hacer la lista, como una lista de string\n",
    "    lista_de_tokens = [i.text for i in data_lista]\n",
    "    return lista_de_tokens"
   ]
  },
  {
   "cell_type": "code",
   "execution_count": 36,
   "metadata": {
    "ExecuteTime": {
     "end_time": "2020-10-31T14:14:44.346732Z",
     "start_time": "2020-10-31T14:14:39.546674Z"
    }
   },
   "outputs": [],
   "source": [
    "#Convertir una lista de listas en una única lista para las etiquetas negativas\n",
    "list_of_token_neg = only_list(lista_token_neg)\n",
    "\n",
    "#Convertir una lista de listas en una única lista para las etiquetas positivas\n",
    "list_of_token_pos = only_list(lista_token_pos)"
   ]
  },
  {
   "cell_type": "code",
   "execution_count": 37,
   "metadata": {
    "ExecuteTime": {
     "end_time": "2020-10-31T14:14:44.690506Z",
     "start_time": "2020-10-31T14:14:44.349085Z"
    }
   },
   "outputs": [],
   "source": [
    "#Cuento la frecuencia de palabras en la lista de las etiquetas negativas\n",
    "word_freq_neg = Counter(list_of_token_neg)\n",
    "\n",
    "#Cuento la frecuencia de palabras en la lista de las etiquetas positivas\n",
    "word_freq_pos = Counter(list_of_token_pos)"
   ]
  },
  {
   "cell_type": "code",
   "execution_count": 38,
   "metadata": {
    "ExecuteTime": {
     "end_time": "2020-10-31T14:14:44.753234Z",
     "start_time": "2020-10-31T14:14:44.692653Z"
    }
   },
   "outputs": [],
   "source": [
    "#Creo un dataframe definiendo las columnas 'Palabra' y 'Frecuencia' para las etiquetas negativas\n",
    "df_word_freq_neg = pd.DataFrame(list(word_freq_neg.items()), columns = ['Palabra','Frecuencia'])\n",
    "\n",
    "#Creo un dataframe definiendo las columnas 'Palabra' y 'Frecuencia' para las etiquetas positivas\n",
    "df_word_freq_pos = pd.DataFrame(list(word_freq_pos.items()), columns = ['Palabra','Frecuencia'])"
   ]
  },
  {
   "cell_type": "code",
   "execution_count": 39,
   "metadata": {
    "ExecuteTime": {
     "end_time": "2020-10-31T14:14:44.769227Z",
     "start_time": "2020-10-31T14:14:44.756231Z"
    }
   },
   "outputs": [],
   "source": [
    "# Ordena la frecuencias de palabras de manera ascendente para las etiquetas negativas\n",
    "df_word_freq_neg.sort_values('Frecuencia', inplace = True, ascending = False)\n",
    "\n",
    "# Ordena la frecuencias de palabras de manera ascendente para las etiquetas positivas\n",
    "df_word_freq_pos.sort_values('Frecuencia', inplace = True, ascending = False)"
   ]
  },
  {
   "cell_type": "code",
   "execution_count": 40,
   "metadata": {
    "ExecuteTime": {
     "end_time": "2020-10-31T14:14:44.785166Z",
     "start_time": "2020-10-31T14:14:44.773186Z"
    }
   },
   "outputs": [],
   "source": [
    "# Reseteo el index en cada dataset\n",
    "df_word_freq_neg.reset_index(drop = True, inplace=True)\n",
    "\n",
    "df_word_freq_pos.reset_index(drop = True, inplace=True)"
   ]
  },
  {
   "cell_type": "code",
   "execution_count": 41,
   "metadata": {
    "ExecuteTime": {
     "end_time": "2020-10-31T14:14:44.800144Z",
     "start_time": "2020-10-31T14:14:44.787147Z"
    }
   },
   "outputs": [],
   "source": [
    "#Función para hacer el gráfico de frecuencia de palabras \n",
    "def plot_frequent_words (etiqueta, data):\n",
    "    plt.figure(figsize = (15,8))\n",
    "    plot = sns.barplot(x  = data.iloc[:30].Palabra, y = data.iloc[:30].Frecuencia, palette = 'magma')\n",
    "    for item in plot.get_xticklabels():\n",
    "        item.set_rotation(90)    \n",
    "    plot.set_title(f'Gráfico para etiqueta {etiqueta}')\n",
    "    plt.show()"
   ]
  },
  {
   "cell_type": "code",
   "execution_count": 42,
   "metadata": {
    "ExecuteTime": {
     "end_time": "2020-10-31T14:14:45.159953Z",
     "start_time": "2020-10-31T14:14:44.802116Z"
    }
   },
   "outputs": [
    {
     "data": {
      "image/png": "[encoded data removed]",
      "text/plain": [
       "<Figure size 1080x576 with 1 Axes>"
      ]
     },
     "metadata": {
      "needs_background": "light"
     },
     "output_type": "display_data"
    }
   ],
   "source": [
    "#Gráfico de frecuencia de palabras para la etiqueta negativa\n",
    "plot_frequent_words ('negativa', df_word_freq_neg)"
   ]
  },
  {
   "cell_type": "code",
   "execution_count": 43,
   "metadata": {
    "ExecuteTime": {
     "end_time": "2020-10-31T14:14:45.551846Z",
     "start_time": "2020-10-31T14:14:45.162887Z"
    }
   },
   "outputs": [
    {
     "data": {
      "image/png": "[encoded data removed]",
      "text/plain": [
       "<Figure size 1080x576 with 1 Axes>"
      ]
     },
     "metadata": {
      "needs_background": "light"
     },
     "output_type": "display_data"
    }
   ],
   "source": [
    "#Gráfico de frecuencia de palabras para la etiqueta positiva\n",
    "plot_frequent_words ('positiva', df_word_freq_pos)"
   ]
  },
  {
   "cell_type": "markdown",
   "metadata": {},
   "source": [
    "Como se puede observar en los gráficos, dentro de las 30 palabras mas frecuentes por etiquetas, aparecieron las palabras **no, si, bien, bueno, mejor, mal**, indicando que estas palabras, previamente eliminadas por ser consideradas como `stop words`, son palabras frecuentes y podrían tener un papel importante en cada una de las etiquetas."
   ]
  },
  {
   "cell_type": "code",
   "execution_count": 44,
   "metadata": {
    "ExecuteTime": {
     "end_time": "2020-10-31T14:14:45.814173Z",
     "start_time": "2020-10-31T14:14:45.554840Z"
    }
   },
   "outputs": [
    {
     "data": {
      "text/plain": [
       "17553"
      ]
     },
     "execution_count": 44,
     "metadata": {},
     "output_type": "execute_result"
    }
   ],
   "source": [
    "gc.collect()"
   ]
  },
  {
   "cell_type": "markdown",
   "metadata": {},
   "source": [
    "# Parte B: Modelo benchmark"
   ]
  },
  {
   "cell_type": "markdown",
   "metadata": {},
   "source": [
    "- Modelo "
   ]
  },
  {
   "cell_type": "markdown",
   "metadata": {},
   "source": [
    "Como modelo benchmark usaré los resultados del **modelo binario optimizado obtenido en el proyecto 3** . A continuación, copiaré los parámetros usados en el modelo, el accuracy del modelo y la matriz de confusión obtenida.\n",
    "\n",
    "**NOTA**: los resultados expuestos a continuación fueron los obtenidos del modelo validado con el dataset TEST"
   ]
  },
  {
   "cell_type": "markdown",
   "metadata": {},
   "source": [
    "Para generar el modelo:\n",
    "\n",
    "   - El **vectorizado** se realizó usando el TfidfVectorizer, con los siguientes parámetros:\n",
    "    - ngram_range = (1,2)\n",
    "    - min_df = 30\n",
    "    - max_features = 1000\n",
    "\n",
    "\n",
    "   - El modelo fue un **Linear SVC**, con los siguientes parámetros:\n",
    "    - dual = False \n",
    "    - random_state = 42\n",
    "    - penalty = 'l2'\n",
    "    - C = 5\n",
    "    - loss = 'squared_hinge'\n",
    "    - tol = 0.01"
   ]
  },
  {
   "cell_type": "markdown",
   "metadata": {},
   "source": [
    "- Accuracy y matriz de confusión"
   ]
  },
  {
   "cell_type": "markdown",
   "metadata": {},
   "source": [
    "El accuracy para Train y Test y la matriz de confución para Test fue:"
   ]
  },
  {
   "attachments": {
    "image-2.png": {
     "image/png": "[encoded data removed]"
    }
   },
   "cell_type": "markdown",
   "metadata": {},
   "source": [
    "![image-2.png](attachment:image-2.png)"
   ]
  },
  {
   "attachments": {
    "image-2.png": {
     "image/png": "[encoded data removed]"
    }
   },
   "cell_type": "markdown",
   "metadata": {},
   "source": [
    "![image-2.png](attachment:image-2.png)"
   ]
  },
  {
   "cell_type": "markdown",
   "metadata": {},
   "source": [
    "En el modelo el accuracy para el conjunto de Train fue de 0.826 y para el conjunto de Test fue de 0.828. Predice de manera correcta un 88.9% de la etiqueta negativa y un 74.05% de la etiqueta positiva en el Test."
   ]
  },
  {
   "cell_type": "markdown",
   "metadata": {},
   "source": [
    "# Parte C: Mejora del modelo benchmark"
   ]
  },
  {
   "cell_type": "markdown",
   "metadata": {},
   "source": [
    "Tal como comenté anteriormente, la mejora del modelo benchmark la iba a abordar de dos maneras: \n",
    "\n",
    "- Una de ellas era mejorar el EDA, lo cual ya lo apliqué en el punto A, mejorando las stopwords y viendo como muchas de ellas aparecían entre las palabras mas frecuentes de acuerdo a la etiqueta.\n",
    "\n",
    "- Por otro lado, iba a proponer un nuevo modelo, que es lo que voy a desarrollar a continuación: será un modelo de Red Neuronal."
   ]
  },
  {
   "cell_type": "markdown",
   "metadata": {},
   "source": [
    "- Asignación de etiquetas"
   ]
  },
  {
   "cell_type": "markdown",
   "metadata": {},
   "source": [
    "La asignación de las etiquetas como positivas y negativas, las definí como:\n",
    "\n",
    "- Etiquetas `negativa`: estrellas ≤ 3 \n",
    "- Etiquetas `positiva`: 3 < puntaje de calificación ≤ 5"
   ]
  },
  {
   "cell_type": "code",
   "execution_count": 45,
   "metadata": {
    "ExecuteTime": {
     "end_time": "2020-10-31T14:14:45.890939Z",
     "start_time": "2020-10-31T14:14:45.817137Z"
    }
   },
   "outputs": [
    {
     "data": {
      "text/html": [
       "<div>\n",
       "<style scoped>\n",
       "    .dataframe tbody tr th:only-of-type {\n",
       "        vertical-align: middle;\n",
       "    }\n",
       "\n",
       "    .dataframe tbody tr th {\n",
       "        vertical-align: top;\n",
       "    }\n",
       "\n",
       "    .dataframe thead th {\n",
       "        text-align: right;\n",
       "    }\n",
       "</style>\n",
       "<table border=\"1\" class=\"dataframe\">\n",
       "  <thead>\n",
       "    <tr style=\"text-align: right;\">\n",
       "      <th></th>\n",
       "      <th>stars</th>\n",
       "      <th>review_title_body</th>\n",
       "      <th>clean</th>\n",
       "      <th>label</th>\n",
       "    </tr>\n",
       "  </thead>\n",
       "  <tbody>\n",
       "    <tr>\n",
       "      <th>0</th>\n",
       "      <td>1</td>\n",
       "      <td>television Nevir Nada bueno se me fue ka panta...</td>\n",
       "      <td>television nevir nadar bueno ka pantalla mesar...</td>\n",
       "      <td>negativa</td>\n",
       "    </tr>\n",
       "    <tr>\n",
       "      <th>1</th>\n",
       "      <td>1</td>\n",
       "      <td>Dinero tirado a la basura con esta compra Horr...</td>\n",
       "      <td>dinero tirar basura comprar horrible tener com...</td>\n",
       "      <td>negativa</td>\n",
       "    </tr>\n",
       "    <tr>\n",
       "      <th>2</th>\n",
       "      <td>1</td>\n",
       "      <td>solo llega una unidad cuando te obligan a comp...</td>\n",
       "      <td>llegar unidad obligar comprar obligar comprar ...</td>\n",
       "      <td>negativa</td>\n",
       "    </tr>\n",
       "    <tr>\n",
       "      <th>3</th>\n",
       "      <td>1</td>\n",
       "      <td>PRODUCTO NO RECIBIDO No entro en descalificar ...</td>\n",
       "      <td>producto no recibir no entrar descalificar ven...</td>\n",
       "      <td>negativa</td>\n",
       "    </tr>\n",
       "    <tr>\n",
       "      <th>4</th>\n",
       "      <td>1</td>\n",
       "      <td>Devuelto Llega tarde y co la talla equivocada</td>\n",
       "      <td>devolver llegar co tallar equivocar</td>\n",
       "      <td>negativa</td>\n",
       "    </tr>\n",
       "    <tr>\n",
       "      <th>...</th>\n",
       "      <td>...</td>\n",
       "      <td>...</td>\n",
       "      <td>...</td>\n",
       "      <td>...</td>\n",
       "    </tr>\n",
       "    <tr>\n",
       "      <th>199995</th>\n",
       "      <td>5</td>\n",
       "      <td>Tal y como se describe Mando funciona perfecta...</td>\n",
       "      <td>describir mandar funcionar perfectamente cumpl...</td>\n",
       "      <td>positiva</td>\n",
       "    </tr>\n",
       "    <tr>\n",
       "      <th>199996</th>\n",
       "      <td>5</td>\n",
       "      <td>Funciona perfectamente Compré la batería con c...</td>\n",
       "      <td>funcionar perfectamente comprar bateria retice...</td>\n",
       "      <td>positiva</td>\n",
       "    </tr>\n",
       "    <tr>\n",
       "      <th>199997</th>\n",
       "      <td>5</td>\n",
       "      <td>Buena calidad Buena calidad Satisfecha con la ...</td>\n",
       "      <td>bueno calidad bueno calidad satisfacer comprar</td>\n",
       "      <td>positiva</td>\n",
       "    </tr>\n",
       "    <tr>\n",
       "      <th>199998</th>\n",
       "      <td>5</td>\n",
       "      <td>Recomendado Perfecto para el cumple de mi hijo</td>\n",
       "      <td>recomendar perfecto cumplir hijo</td>\n",
       "      <td>positiva</td>\n",
       "    </tr>\n",
       "    <tr>\n",
       "      <th>199999</th>\n",
       "      <td>5</td>\n",
       "      <td>Preciosas Súper bien Las brochas son buenas no...</td>\n",
       "      <td>precioso super bien brocha bueno no caer pelit...</td>\n",
       "      <td>positiva</td>\n",
       "    </tr>\n",
       "  </tbody>\n",
       "</table>\n",
       "<p>200000 rows × 4 columns</p>\n",
       "</div>"
      ],
      "text/plain": [
       "        stars                                  review_title_body  \\\n",
       "0           1  television Nevir Nada bueno se me fue ka panta...   \n",
       "1           1  Dinero tirado a la basura con esta compra Horr...   \n",
       "2           1  solo llega una unidad cuando te obligan a comp...   \n",
       "3           1  PRODUCTO NO RECIBIDO No entro en descalificar ...   \n",
       "4           1      Devuelto Llega tarde y co la talla equivocada   \n",
       "...       ...                                                ...   \n",
       "199995      5  Tal y como se describe Mando funciona perfecta...   \n",
       "199996      5  Funciona perfectamente Compré la batería con c...   \n",
       "199997      5  Buena calidad Buena calidad Satisfecha con la ...   \n",
       "199998      5     Recomendado Perfecto para el cumple de mi hijo   \n",
       "199999      5  Preciosas Súper bien Las brochas son buenas no...   \n",
       "\n",
       "                                                    clean     label  \n",
       "0       television nevir nadar bueno ka pantalla mesar...  negativa  \n",
       "1       dinero tirar basura comprar horrible tener com...  negativa  \n",
       "2       llegar unidad obligar comprar obligar comprar ...  negativa  \n",
       "3       producto no recibir no entrar descalificar ven...  negativa  \n",
       "4                     devolver llegar co tallar equivocar  negativa  \n",
       "...                                                   ...       ...  \n",
       "199995  describir mandar funcionar perfectamente cumpl...  positiva  \n",
       "199996  funcionar perfectamente comprar bateria retice...  positiva  \n",
       "199997     bueno calidad bueno calidad satisfacer comprar  positiva  \n",
       "199998                   recomendar perfecto cumplir hijo  positiva  \n",
       "199999  precioso super bien brocha bueno no caer pelit...  positiva  \n",
       "\n",
       "[200000 rows x 4 columns]"
      ]
     },
     "execution_count": 45,
     "metadata": {},
     "output_type": "execute_result"
    }
   ],
   "source": [
    "#Defino dataset en TRAIN\n",
    "dataset_train_bin= dataset_train.copy()\n",
    "dataset_train_bin = dataset_train_bin.reset_index(drop=True)\n",
    "\n",
    "d={1:'negativa', 2:'negativa', 3: 'negativa', 4:'positiva', 5:'positiva'} \n",
    "dataset_train_bin['label'] = dataset_train_bin.stars.apply(lambda x:d[x])\n",
    "\n",
    "dataset_train_bin"
   ]
  },
  {
   "cell_type": "code",
   "execution_count": 46,
   "metadata": {
    "ExecuteTime": {
     "end_time": "2020-10-31T14:14:45.905900Z",
     "start_time": "2020-10-31T14:14:45.893932Z"
    }
   },
   "outputs": [],
   "source": [
    "#Defino dataset en DEV\n",
    "dataset_dev_bin = dataset_dev.copy()\n",
    "dataset_dev_bin = dataset_dev_bin.reset_index(drop=True)\n",
    "\n",
    "#Asigno etiquetas\n",
    "d={1:'negativa', 2:'negativa', 3: 'negativa', 4:'positiva', 5:'positiva'}    \n",
    "dataset_dev_bin['label'] = dataset_dev_bin.stars.apply(lambda x:d[x])"
   ]
  },
  {
   "cell_type": "code",
   "execution_count": 47,
   "metadata": {
    "ExecuteTime": {
     "end_time": "2020-10-31T14:14:45.921858Z",
     "start_time": "2020-10-31T14:14:45.908892Z"
    },
    "scrolled": true
   },
   "outputs": [],
   "source": [
    "#Defino dataset en TEST\n",
    "dataset_test_bin = dataset_test.copy()\n",
    "dataset_test_bin = dataset_test_bin.reset_index(drop=True)\n",
    "\n",
    "#Asigno etiquetas\n",
    "d={1:'negativa', 2:'negativa', 3: 'negativa', 4:'positiva', 5:'positiva'} \n",
    "dataset_test_bin['label'] = dataset_test_bin.stars.apply(lambda x:d[x])"
   ]
  },
  {
   "cell_type": "markdown",
   "metadata": {},
   "source": [
    "- Distribución de acuerdo a la etiqueta"
   ]
  },
  {
   "cell_type": "code",
   "execution_count": 48,
   "metadata": {
    "ExecuteTime": {
     "end_time": "2020-10-31T14:14:45.937815Z",
     "start_time": "2020-10-31T14:14:45.924849Z"
    }
   },
   "outputs": [],
   "source": [
    "def count_labels (data_, data):\n",
    "    plt.figure(figsize = (5,5))\n",
    "    plot = sns.countplot(data['label'], palette = 'magma')\n",
    "    plot.set_title(f'Gráfico para el dataset {data_}', fontsize = 'x-large')\n",
    "    plt.xlabel('Etiqueta', fontsize = 'large' )\n",
    "    plt.ylabel ('Cantidad', fontsize = 'large')\n",
    "    plt.show()"
   ]
  },
  {
   "cell_type": "code",
   "execution_count": 49,
   "metadata": {
    "ExecuteTime": {
     "end_time": "2020-10-31T14:14:46.089455Z",
     "start_time": "2020-10-31T14:14:45.940806Z"
    }
   },
   "outputs": [
    {
     "data": {
      "image/png": "[encoded data removed]",
      "text/plain": [
       "<Figure size 360x360 with 1 Axes>"
      ]
     },
     "metadata": {
      "needs_background": "light"
     },
     "output_type": "display_data"
    }
   ],
   "source": [
    "#Cuento el número de casos de acuerdo a las etiquetas en el datatset TRAIN\n",
    "count_labels ('TRAIN', dataset_train_bin)"
   ]
  },
  {
   "cell_type": "code",
   "execution_count": 50,
   "metadata": {
    "ExecuteTime": {
     "end_time": "2020-10-31T14:14:46.181828Z",
     "start_time": "2020-10-31T14:14:46.091404Z"
    }
   },
   "outputs": [
    {
     "data": {
      "image/png": "[encoded data removed]",
      "text/plain": [
       "<Figure size 360x360 with 1 Axes>"
      ]
     },
     "metadata": {
      "needs_background": "light"
     },
     "output_type": "display_data"
    }
   ],
   "source": [
    "#C#Cuento el número de casos de acuerdo a las etiquetas en el datatset DEV\n",
    "count_labels ('DEV', dataset_dev_bin)"
   ]
  },
  {
   "cell_type": "code",
   "execution_count": 51,
   "metadata": {
    "ExecuteTime": {
     "end_time": "2020-10-31T14:14:46.302507Z",
     "start_time": "2020-10-31T14:14:46.184790Z"
    }
   },
   "outputs": [
    {
     "data": {
      "image/png": "[encoded data removed]",
      "text/plain": [
       "<Figure size 360x360 with 1 Axes>"
      ]
     },
     "metadata": {
      "needs_background": "light"
     },
     "output_type": "display_data"
    }
   ],
   "source": [
    "#Cuento el número de casos de acuerdo a las etiquetas en el datatset TEST\n",
    "count_labels ('TEST', dataset_test_bin)"
   ]
  },
  {
   "cell_type": "markdown",
   "metadata": {},
   "source": [
    "Como se ven en los gráficos, las categorías no son balanceadas, sin embargo, dicho desbalance es muy poco (60% clase negativa - 40% clase positiva en los tres datasets)."
   ]
  },
  {
   "cell_type": "markdown",
   "metadata": {},
   "source": [
    "- Elección de la métrica de evaluación"
   ]
  },
  {
   "cell_type": "markdown",
   "metadata": {},
   "source": [
    "Un problema de clasificación puede estar un poco sesgado, como si hubiera un ligero desequilibrio. Alternativamente, el problema de clasificación puede tener un desequilibrio severo donde puede haber cientos o miles de ejemplos en una clase y decenas de ejemplos en otra clase para un conjunto de datos de entrenamiento dado.\n",
    "\n",
    "**Ligero desequilibrio**: Un problema de clasificación desequilibrado donde la distribución de ejemplos es desigual en una pequeña cantidad en el conjunto de datos de entrenamiento (por ejemplo, 4: 6).\n",
    "\n",
    "\n",
    "**Desequilibrio severo**: Un problema de clasificación desequilibrado en el que la distribución de ejemplos es muy desigual en el conjunto de datos de entrenamiento (por ejemplo, 1: 100 o más).\n",
    "\n",
    "Un pequeño desequilibrio no suele ser motivo de preocupación, y el problema a menudo se puede tratar como un problema de modelado predictivo de clasificación normal. Un desequilibrio severo de las clases puede ser difícil de modelar y puede requerir el uso de técnicas especializadas."
   ]
  },
  {
   "cell_type": "markdown",
   "metadata": {},
   "source": [
    "Info: https://machinelearningmastery.com/what-is-imbalanced-classification/"
   ]
  },
  {
   "cell_type": "markdown",
   "metadata": {},
   "source": [
    "La **métrica** elegida para evaluar los modelos fue la exactitud (**accuracy**). La elegí debido a que las clases están ligeremante desbalanceadas. Además, no interesa alguna clase en particular, sino el rendimiento general del modelo."
   ]
  },
  {
   "cell_type": "markdown",
   "metadata": {},
   "source": [
    "- Encodeado de etiquetas"
   ]
  },
  {
   "cell_type": "markdown",
   "metadata": {},
   "source": [
    "¿Por qué encodear las etiquetas? Esto será utilizado para el modelo de Redes Neuronales. Ya que defino dos nodos de salida, es necesario dividir la columna `label`en `label_negativa`y `label_positiva`. "
   ]
  },
  {
   "cell_type": "code",
   "execution_count": 52,
   "metadata": {
    "ExecuteTime": {
     "end_time": "2020-10-31T14:14:46.380291Z",
     "start_time": "2020-10-31T14:14:46.305467Z"
    }
   },
   "outputs": [
    {
     "data": {
      "text/html": [
       "<div>\n",
       "<style scoped>\n",
       "    .dataframe tbody tr th:only-of-type {\n",
       "        vertical-align: middle;\n",
       "    }\n",
       "\n",
       "    .dataframe tbody tr th {\n",
       "        vertical-align: top;\n",
       "    }\n",
       "\n",
       "    .dataframe thead th {\n",
       "        text-align: right;\n",
       "    }\n",
       "</style>\n",
       "<table border=\"1\" class=\"dataframe\">\n",
       "  <thead>\n",
       "    <tr style=\"text-align: right;\">\n",
       "      <th></th>\n",
       "      <th>stars</th>\n",
       "      <th>review_title_body</th>\n",
       "      <th>clean</th>\n",
       "      <th>label</th>\n",
       "      <th>label_negativa</th>\n",
       "      <th>label_positiva</th>\n",
       "    </tr>\n",
       "  </thead>\n",
       "  <tbody>\n",
       "    <tr>\n",
       "      <th>0</th>\n",
       "      <td>1</td>\n",
       "      <td>television Nevir Nada bueno se me fue ka panta...</td>\n",
       "      <td>television nevir nadar bueno ka pantalla mesar...</td>\n",
       "      <td>negativa</td>\n",
       "      <td>1</td>\n",
       "      <td>0</td>\n",
       "    </tr>\n",
       "    <tr>\n",
       "      <th>1</th>\n",
       "      <td>1</td>\n",
       "      <td>Dinero tirado a la basura con esta compra Horr...</td>\n",
       "      <td>dinero tirar basura comprar horrible tener com...</td>\n",
       "      <td>negativa</td>\n",
       "      <td>1</td>\n",
       "      <td>0</td>\n",
       "    </tr>\n",
       "    <tr>\n",
       "      <th>2</th>\n",
       "      <td>1</td>\n",
       "      <td>solo llega una unidad cuando te obligan a comp...</td>\n",
       "      <td>llegar unidad obligar comprar obligar comprar ...</td>\n",
       "      <td>negativa</td>\n",
       "      <td>1</td>\n",
       "      <td>0</td>\n",
       "    </tr>\n",
       "    <tr>\n",
       "      <th>3</th>\n",
       "      <td>1</td>\n",
       "      <td>PRODUCTO NO RECIBIDO No entro en descalificar ...</td>\n",
       "      <td>producto no recibir no entrar descalificar ven...</td>\n",
       "      <td>negativa</td>\n",
       "      <td>1</td>\n",
       "      <td>0</td>\n",
       "    </tr>\n",
       "    <tr>\n",
       "      <th>4</th>\n",
       "      <td>1</td>\n",
       "      <td>Devuelto Llega tarde y co la talla equivocada</td>\n",
       "      <td>devolver llegar co tallar equivocar</td>\n",
       "      <td>negativa</td>\n",
       "      <td>1</td>\n",
       "      <td>0</td>\n",
       "    </tr>\n",
       "    <tr>\n",
       "      <th>...</th>\n",
       "      <td>...</td>\n",
       "      <td>...</td>\n",
       "      <td>...</td>\n",
       "      <td>...</td>\n",
       "      <td>...</td>\n",
       "      <td>...</td>\n",
       "    </tr>\n",
       "    <tr>\n",
       "      <th>199995</th>\n",
       "      <td>5</td>\n",
       "      <td>Tal y como se describe Mando funciona perfecta...</td>\n",
       "      <td>describir mandar funcionar perfectamente cumpl...</td>\n",
       "      <td>positiva</td>\n",
       "      <td>0</td>\n",
       "      <td>1</td>\n",
       "    </tr>\n",
       "    <tr>\n",
       "      <th>199996</th>\n",
       "      <td>5</td>\n",
       "      <td>Funciona perfectamente Compré la batería con c...</td>\n",
       "      <td>funcionar perfectamente comprar bateria retice...</td>\n",
       "      <td>positiva</td>\n",
       "      <td>0</td>\n",
       "      <td>1</td>\n",
       "    </tr>\n",
       "    <tr>\n",
       "      <th>199997</th>\n",
       "      <td>5</td>\n",
       "      <td>Buena calidad Buena calidad Satisfecha con la ...</td>\n",
       "      <td>bueno calidad bueno calidad satisfacer comprar</td>\n",
       "      <td>positiva</td>\n",
       "      <td>0</td>\n",
       "      <td>1</td>\n",
       "    </tr>\n",
       "    <tr>\n",
       "      <th>199998</th>\n",
       "      <td>5</td>\n",
       "      <td>Recomendado Perfecto para el cumple de mi hijo</td>\n",
       "      <td>recomendar perfecto cumplir hijo</td>\n",
       "      <td>positiva</td>\n",
       "      <td>0</td>\n",
       "      <td>1</td>\n",
       "    </tr>\n",
       "    <tr>\n",
       "      <th>199999</th>\n",
       "      <td>5</td>\n",
       "      <td>Preciosas Súper bien Las brochas son buenas no...</td>\n",
       "      <td>precioso super bien brocha bueno no caer pelit...</td>\n",
       "      <td>positiva</td>\n",
       "      <td>0</td>\n",
       "      <td>1</td>\n",
       "    </tr>\n",
       "  </tbody>\n",
       "</table>\n",
       "<p>200000 rows × 6 columns</p>\n",
       "</div>"
      ],
      "text/plain": [
       "        stars                                  review_title_body  \\\n",
       "0           1  television Nevir Nada bueno se me fue ka panta...   \n",
       "1           1  Dinero tirado a la basura con esta compra Horr...   \n",
       "2           1  solo llega una unidad cuando te obligan a comp...   \n",
       "3           1  PRODUCTO NO RECIBIDO No entro en descalificar ...   \n",
       "4           1      Devuelto Llega tarde y co la talla equivocada   \n",
       "...       ...                                                ...   \n",
       "199995      5  Tal y como se describe Mando funciona perfecta...   \n",
       "199996      5  Funciona perfectamente Compré la batería con c...   \n",
       "199997      5  Buena calidad Buena calidad Satisfecha con la ...   \n",
       "199998      5     Recomendado Perfecto para el cumple de mi hijo   \n",
       "199999      5  Preciosas Súper bien Las brochas son buenas no...   \n",
       "\n",
       "                                                    clean     label  \\\n",
       "0       television nevir nadar bueno ka pantalla mesar...  negativa   \n",
       "1       dinero tirar basura comprar horrible tener com...  negativa   \n",
       "2       llegar unidad obligar comprar obligar comprar ...  negativa   \n",
       "3       producto no recibir no entrar descalificar ven...  negativa   \n",
       "4                     devolver llegar co tallar equivocar  negativa   \n",
       "...                                                   ...       ...   \n",
       "199995  describir mandar funcionar perfectamente cumpl...  positiva   \n",
       "199996  funcionar perfectamente comprar bateria retice...  positiva   \n",
       "199997     bueno calidad bueno calidad satisfacer comprar  positiva   \n",
       "199998                   recomendar perfecto cumplir hijo  positiva   \n",
       "199999  precioso super bien brocha bueno no caer pelit...  positiva   \n",
       "\n",
       "        label_negativa  label_positiva  \n",
       "0                    1               0  \n",
       "1                    1               0  \n",
       "2                    1               0  \n",
       "3                    1               0  \n",
       "4                    1               0  \n",
       "...                ...             ...  \n",
       "199995               0               1  \n",
       "199996               0               1  \n",
       "199997               0               1  \n",
       "199998               0               1  \n",
       "199999               0               1  \n",
       "\n",
       "[200000 rows x 6 columns]"
      ]
     },
     "execution_count": 52,
     "metadata": {},
     "output_type": "execute_result"
    }
   ],
   "source": [
    "#Aplico get_dummies para TRAIN\n",
    "dataset_train_bin = pd.concat([dataset_train_bin, pd.get_dummies(\n",
    "                                                         dataset_train_bin['label'], \n",
    "                                                         prefix='label', \n",
    "                                                         prefix_sep = '_')],\n",
    "                                                         axis=1)\n",
    "dataset_train_bin"
   ]
  },
  {
   "cell_type": "code",
   "execution_count": 53,
   "metadata": {
    "ExecuteTime": {
     "end_time": "2020-10-31T14:14:46.395230Z",
     "start_time": "2020-10-31T14:14:46.383263Z"
    }
   },
   "outputs": [],
   "source": [
    "#Aplico get_dummies para DEV\n",
    "dataset_dev_bin = pd.concat([dataset_dev_bin, pd.get_dummies(\n",
    "                                                         dataset_dev_bin['label'], \n",
    "                                                         prefix='label', \n",
    "                                                         prefix_sep = '_')],\n",
    "                                                         axis=1)"
   ]
  },
  {
   "cell_type": "code",
   "execution_count": 54,
   "metadata": {
    "ExecuteTime": {
     "end_time": "2020-10-31T14:14:46.410190Z",
     "start_time": "2020-10-31T14:14:46.398221Z"
    }
   },
   "outputs": [],
   "source": [
    "#Aplico get_dummies parar TEST\n",
    "dataset_test_bin = pd.concat([dataset_test_bin, pd.get_dummies(\n",
    "                                                         dataset_test_bin['label'], \n",
    "                                                         prefix='label', \n",
    "                                                         prefix_sep = '_')],\n",
    "                                                         axis=1)"
   ]
  },
  {
   "cell_type": "markdown",
   "metadata": {},
   "source": [
    "- Vectorizado. \n",
    "\n",
    "\n",
    "Para comenzar la parte de Machine Learning, lo que haré será realizar la vectorización, esto es necesario ya que los modelos sólo pueden procesar datos numéricos.\n",
    "\n",
    "TF-IDF es una abreviatura de Término Frecuencia- Frecuencia Inversa de Documentos. Este es un algoritmo muy común para transformar texto en una representación significativa de números, que se utiliza para ajustar el algoritmo de la máquina para la predicción.\n",
    "\n",
    "En TfidfVectorizer se considera el peso total del documento de una palabra. Nos ayuda a lidiar con las palabras más frecuentes. Usándolo podemos penalizarlos. TfidfVectorizer pondera los recuentos de palabras según una medida de la frecuencia con la que aparecen en los documentos.\n",
    "\n",
    "Info: https://medium.com/@cmukesh8688/tf-idf-vectorizer-scikit-learn-dbc0244a911a"
   ]
  },
  {
   "cell_type": "markdown",
   "metadata": {},
   "source": [
    "Usaré todos sus parámetros por default, a excepción de:\n",
    "\n",
    "- `ngram_range` = (1,2): significa unigramas y bigramas.\n",
    "- `min_df`= 30: al construir el vocabulario, ignora los términos que tienen una frecuencia de documento estrictamente más baja que el umbral dado. Esto lo limité ya que, al incluir uni y bigramas el número de features era muy grande (>900000)"
   ]
  },
  {
   "cell_type": "code",
   "execution_count": 55,
   "metadata": {
    "ExecuteTime": {
     "end_time": "2020-10-31T14:14:46.441145Z",
     "start_time": "2020-10-31T14:14:46.413180Z"
    }
   },
   "outputs": [],
   "source": [
    "# Tomamos la lista de palabras y el vector que nos dice la calificación para TRAIN\n",
    "lista_reviews_train_bin = list(dataset_train_bin['clean'].values)\n",
    "label_train_bin = dataset_train_bin.iloc[:, [4,5]]\n",
    "\n",
    "# Tomamos la lista de palabras y el vector que nos dice la calificación para DEV\n",
    "lista_reviews_dev_bin = list(dataset_dev_bin['clean'].values)\n",
    "label_dev_bin = dataset_dev_bin.iloc[:, [4,5]]\n",
    "\n",
    "#print(label_train_bin)\n",
    "#print(label_dev_bin)"
   ]
  },
  {
   "cell_type": "markdown",
   "metadata": {},
   "source": [
    "- Usaré 3000 features, ya que fueron ellos con los que obtuve una mejor performance."
   ]
  },
  {
   "cell_type": "code",
   "execution_count": 56,
   "metadata": {
    "ExecuteTime": {
     "end_time": "2020-10-31T14:14:55.716022Z",
     "start_time": "2020-10-31T14:14:46.444103Z"
    }
   },
   "outputs": [
    {
     "name": "stdout",
     "output_type": "stream",
     "text": [
      "(200000, 3000)\n",
      "(5000, 3000)\n"
     ]
    }
   ],
   "source": [
    "#Instanciamos \n",
    "tfidf_bin = TfidfVectorizer(ngram_range = (1,2), min_df = 30, max_features = 3000)\n",
    "\n",
    "#Entreno y transformo en TRAIN\n",
    "matriz_reviews_train_bin = tfidf_bin.fit_transform(lista_reviews_train_bin)\n",
    "\n",
    "#Transformo en DEV\n",
    "matriz_reviews_dev_bin = tfidf_bin.transform(lista_reviews_dev_bin)\n",
    "\n",
    "print(matriz_reviews_train_bin.shape)\n",
    "print(matriz_reviews_dev_bin.shape)"
   ]
  },
  {
   "cell_type": "code",
   "execution_count": 57,
   "metadata": {
    "ExecuteTime": {
     "end_time": "2020-10-31T14:14:55.808033Z",
     "start_time": "2020-10-31T14:14:55.719011Z"
    }
   },
   "outputs": [],
   "source": [
    "#Cambio el tipo de dato de la matriz 'matriz_reviews_train_bin'\n",
    "matriz_reviews_train_bin = matriz_reviews_train_bin.astype('float32')\n",
    "\n",
    "#Cambio el tipo de dato de la matriz 'matriz_reviews_dev_bin'\n",
    "matriz_reviews_dev_bin = matriz_reviews_dev_bin.astype('float32')"
   ]
  },
  {
   "cell_type": "markdown",
   "metadata": {
    "ExecuteTime": {
     "end_time": "2020-09-28T19:56:06.919841Z",
     "start_time": "2020-09-28T19:56:06.886388Z"
    }
   },
   "source": [
    "- Modelado"
   ]
  },
  {
   "cell_type": "code",
   "execution_count": 58,
   "metadata": {
    "ExecuteTime": {
     "end_time": "2020-10-31T14:14:56.637193Z",
     "start_time": "2020-10-31T14:14:55.809973Z"
    }
   },
   "outputs": [
    {
     "name": "stdout",
     "output_type": "stream",
     "text": [
      "(200000, 3000)\n",
      "(200000, 2)\n"
     ]
    }
   ],
   "source": [
    "#Con el dataset TRAIN determino el X_train y el y_train\n",
    "X_train = matriz_reviews_train_bin.toarray()\n",
    "y_train = label_train_bin\n",
    "\n",
    "print(X_train.shape)\n",
    "print(y_train.shape)"
   ]
  },
  {
   "cell_type": "code",
   "execution_count": 59,
   "metadata": {
    "ExecuteTime": {
     "end_time": "2020-10-31T14:14:56.668092Z",
     "start_time": "2020-10-31T14:14:56.640127Z"
    }
   },
   "outputs": [
    {
     "name": "stdout",
     "output_type": "stream",
     "text": [
      "(5000, 3000)\n",
      "(5000, 2)\n"
     ]
    }
   ],
   "source": [
    "#Con el dataset DEV determino el X_test y el y_test\n",
    "X_test = matriz_reviews_dev_bin.toarray()\n",
    "y_test = label_dev_bin\n",
    "\n",
    "print(X_test.shape)\n",
    "print(y_test.shape)"
   ]
  },
  {
   "cell_type": "markdown",
   "metadata": {},
   "source": [
    "- **Red neuronal artificial**"
   ]
  },
  {
   "cell_type": "markdown",
   "metadata": {},
   "source": [
    "Las redes neuronales artificiales son un modelo computacional inspirado en el comportamiento observado en su homólogo biológico. Consiste en un conjunto de unidades, llamadas neuronas artificiales, conectadas entre sí para transmitirse señales. La información de entrada atraviesa la red neuronal (donde se somete a diversas operaciones) produciendo unos valores de salida.\n",
    "\n",
    "INFO: \n",
    "- (https://es.wikipedia.org/wiki/Red_neuronal_artificial)."
   ]
  },
  {
   "cell_type": "markdown",
   "metadata": {},
   "source": [
    "Existen diferentes parámetros a tener en cuenta:\n",
    "\n",
    "- Número de neuronas por capa: es el número de neuronas usadas en cada capa, sea de entrada, ocultas y de salida.\n",
    "    \n",
    "    \n",
    "- Número de capas:\n",
    "\n",
    "    - Capa de entrada: datos iniciales para la red neuronal.\n",
    "    - Capas ocultas: capa intermedia entre la capa de entrada y salida y el lugar donde se realiza todo el cálculo. \n",
    "    - Capa de salida: produce el resultado para las entradas dadas.\n",
    "    \n",
    "      \n",
    "- Números de épocas (*epoch*): representa la cantidad de veces que desea que su algoritmo se entrene en todo su conjunto de datos.\n",
    "    \n",
    "    \n",
    "- Tamaño del lote (*batch*): cuando se enfrenta a miles de millones de datos, puede resultar ineficiente (además de contraproducente) alimentar a la red neuronal con todos ellos. Una buena práctica es alimentarlo con muestras más pequeñas de sus datos, llamadas lotes: al hacerlo, cada vez que el algoritmo se entrena, se entrenará en una muestra del mismo tamaño del lote.\n",
    "    \n",
    "    \n",
    "- Optimizador (*optimizer*): los optimizadores son algoritmos o métodos que se utilizan para cambiar los atributos de la red neuronal, como los pesos y la tasa de aprendizaje, para reducir las pérdidas. Los optimizadores se utilizan para resolver problemas de optimización minimizando la función.\n",
    "\n",
    "\n",
    "- Función de pérdida: Las redes neuronales de aprendizaje profundo se entrenan utilizando el algoritmo de optimización de descenso de gradiente estocástico. Como parte del algoritmo de optimización, el error para el estado actual del modelo debe estimarse repetidamente. Esto requiere la elección de una función de error, llamada convencionalmente función de pérdida, que se puede utilizar para estimar la pérdida del modelo de modo que los pesos se puedan actualizar para reducir la pérdida en la siguiente evaluación.\n",
    "    \n",
    "    \n",
    "- Función de activación: es la función a través de la cual pasamos nuestra suma ponderada, para tener una salida significativa, es decir, como un vector de probabilidad o una salida 0-1. Las principales funciones de activación son **Sigmoid** (para clasificación multiclase se utiliza una variante de esta función, denominada función **SoftMax**: si el número de clases es 2, entonces softmax es lo mismo que la función Sigmoid), **Tanh** y **ReLU** (rectified Linear Unit).\n",
    "\n",
    "\n",
    "- Dropout: por cada nueva entrada a la red en fase de entrenamiento, se desactivará aleatoriamente un porcentaje de las neuronas en cada capa oculta, acorde a una probabilidad de descarte (dropout) previamente definida. Lo que se consigue con esto es que ninguna neurona memorice parte de la entrada; que es precisamente lo que sucede cuando tenemos sobreajuste.\n",
    "\n",
    "\n",
    "- Regularizers: la técnica de regularización actúa sobre los parámetros de pesos dentro de las redes neuronales. Más específicamente, modifica la función de pérdida de resultado, que a su vez modifica los valores de peso producidos. l1 aplica el factor de regularización L1 (Lasso), l2 aplica el factor de regularización L2 (Ridge). Además, *Keras* ofrece la opción de regularizar utilizando ambas penalizaciones L1 and L2.\n",
    " \n",
    "INFO:  \n",
    "- (http://openaccess.uoc.edu/webapps/o2/bitstream/10609/99386/7/jmartinezrayTFM0619memoria.pdf)\n",
    "- (https://medium.com/metadatos/t%C3%A9cnicas-de-regularizaci%C3%B3n-b%C3%A1sicas-para-redes-neuronales-b48f396924d4#:~:text=el%20t%C3%A9rmino%20a%C3%B1adido.-,Dropout,probabilidad%20de%20descarte%20previamente%20definida.)\n",
    "- (https://towardsdatascience.com/neural-networks-parameters-hyperparameters-and-optimization-strategies-3f0842fac0a5)\n",
    "- (https://towardsdatascience.com/overview-of-various-optimizers-in-neural-networks-17c1be2df6d5)\n",
    "- (https://machinelearningmastery.com/how-to-choose-loss-functions-when-training-deep-learning-neural-networks/)\n",
    "- (https://towardsdatascience.com/everything-you-need-to-know-about-neural-networks-and-backpropagation-machine-learning-made-easy-e5285bc2be3a)\n",
    "- (https://towardsdatascience.com/regularization-techniques-and-their-implementation-in-tensorflow-keras-c06e7551e709)\n",
    "- (https://keras.io/api/layers/regularizers/)"
   ]
  },
  {
   "cell_type": "markdown",
   "metadata": {},
   "source": [
    "**NOTA**: para los modelos utilicé los datasets TRAIN y DEV. Usaré el datastet TEST, para validar mi modelo elegido. "
   ]
  },
  {
   "cell_type": "markdown",
   "metadata": {},
   "source": [
    "- Lo primero que haré será establecer una semilla, para poder reproducir los resultados en el futuro."
   ]
  },
  {
   "cell_type": "code",
   "execution_count": 60,
   "metadata": {
    "ExecuteTime": {
     "end_time": "2020-10-31T14:14:56.684009Z",
     "start_time": "2020-10-31T14:14:56.670046Z"
    }
   },
   "outputs": [],
   "source": [
    "#Determino el número de mi semilla\n",
    "my_seed = 42\n",
    "\n",
    "seed(my_seed)\n",
    "tf.random.set_seed(my_seed)"
   ]
  },
  {
   "cell_type": "code",
   "execution_count": 61,
   "metadata": {
    "ExecuteTime": {
     "end_time": "2020-10-31T14:14:56.698969Z",
     "start_time": "2020-10-31T14:14:56.687003Z"
    }
   },
   "outputs": [
    {
     "name": "stdout",
     "output_type": "stream",
     "text": [
      "3000\n"
     ]
    }
   ],
   "source": [
    "#Determino el input\n",
    "input_dim = X_train.shape[1]\n",
    "print(input_dim)"
   ]
  },
  {
   "cell_type": "markdown",
   "metadata": {},
   "source": [
    "La red neuronal artificial, la definí usando los siguiente parámetros:\n",
    "    \n",
    "- Número de neuronas por capa: 3000 (entrada), 2000, 1000, 100, 10 (ocultas) y 2 (salida)\n",
    "    \n",
    "- Número de capas: 6\n",
    "\n",
    "- Función de activación: relu y sigmoid\n",
    "\n",
    "- Regularización: L2\n",
    "\n",
    "- Función de pérdida: binary crossentropy\n",
    "\n",
    "- Optimizador (*optimizer*): sgd\n",
    "\n",
    "- Números de épocas (*epoch*): 50\n",
    "    \n",
    "- Tamaño del lote (*batch*): 100"
   ]
  },
  {
   "cell_type": "markdown",
   "metadata": {},
   "source": [
    "**¿Cómo definí estos parámetros?**\n",
    "\n",
    "- El número de capas, neuronas por capa, batch, los elegí haciendo repeticiones manuales.\n",
    "\n",
    "- Las funciones de activación (ReLU y Sigmoid) las determiné como sugería la bibliografía: la función ReLU es muy rápida en términos de entrenamiento, mientras que Sigmoid es más compleja y lleva más tiempo. Por lo tanto, una buena práctica podría ser usar ReLU para capas ocultas y luego, en la última capa, insertar su Sigmoid. \n",
    "\n",
    "- La función de pérdida (binary crossentropy) la definí por ser la mas recomendable para decisiones binarias.\n",
    "\n",
    "- El optimizador (sgd) lo elegí también por sugerencia bibliográfica.\n",
    "\n",
    "- El número de épocas lo elegí para tener una primera idea y luego modificar."
   ]
  },
  {
   "cell_type": "markdown",
   "metadata": {},
   "source": [
    "**¿Por qué regularicé con L2 y no con Dropout?**\n",
    "\n",
    "Leyendo bibliografía sobre NLP, sugerían que usar dropout podría funcionar en imágenes, donde la pérdida de píxeles podría ser algo \"reconstruida\" por otras capas. Pero que si se usaba en otros problemas como el caso de la NLP, exitía la posibilidad de que se lleguen a desechar palabras claves importantes.\n",
    "\n",
    "Por ello, es que decidí probar regularizando usando L2 (esto lo elegí también por bibiografía que leí)."
   ]
  },
  {
   "cell_type": "code",
   "execution_count": 62,
   "metadata": {
    "ExecuteTime": {
     "end_time": "2020-10-31T14:14:57.079760Z",
     "start_time": "2020-10-31T14:14:56.701963Z"
    }
   },
   "outputs": [],
   "source": [
    "#Defino la red neuronal\n",
    "model = Sequential()\n",
    "model.add(layers.Dense(3000, input_dim=input_dim, activation='relu'))\n",
    "model.add(layers.Dense(2000, input_dim=input_dim, activation='relu', kernel_regularizer=l2(0.001)))\n",
    "model.add(layers.Dense(1000, input_dim=input_dim, activation='relu', kernel_regularizer=l2(0.001)))\n",
    "model.add(layers.Dense(100, input_dim=input_dim, activation='relu', kernel_regularizer=l2(0.001)))\n",
    "model.add(layers.Dense(10, input_dim=input_dim, activation='relu', kernel_regularizer=l2(0.001)))\n",
    "model.add(layers.Dense(2, activation='sigmoid'))"
   ]
  },
  {
   "cell_type": "code",
   "execution_count": 63,
   "metadata": {
    "ExecuteTime": {
     "end_time": "2020-10-31T14:14:57.111723Z",
     "start_time": "2020-10-31T14:14:57.081760Z"
    }
   },
   "outputs": [],
   "source": [
    "#Realizo la compilación con los parámetros seleccionados\n",
    "model.compile(loss='binary_crossentropy', \n",
    "              optimizer= 'sgd', \n",
    "              metrics=['accuracy'])"
   ]
  },
  {
   "cell_type": "code",
   "execution_count": 64,
   "metadata": {
    "ExecuteTime": {
     "end_time": "2020-10-31T14:14:57.127684Z",
     "start_time": "2020-10-31T14:14:57.113723Z"
    }
   },
   "outputs": [
    {
     "name": "stdout",
     "output_type": "stream",
     "text": [
      "Model: \"sequential_1\"\n",
      "_________________________________________________________________\n",
      "Layer (type)                 Output Shape              Param #   \n",
      "=================================================================\n",
      "dense_1 (Dense)              (None, 3000)              9003000   \n",
      "_________________________________________________________________\n",
      "dense_2 (Dense)              (None, 2000)              6002000   \n",
      "_________________________________________________________________\n",
      "dense_3 (Dense)              (None, 1000)              2001000   \n",
      "_________________________________________________________________\n",
      "dense_4 (Dense)              (None, 100)               100100    \n",
      "_________________________________________________________________\n",
      "dense_5 (Dense)              (None, 10)                1010      \n",
      "_________________________________________________________________\n",
      "dense_6 (Dense)              (None, 2)                 22        \n",
      "=================================================================\n",
      "Total params: 17,107,132\n",
      "Trainable params: 17,107,132\n",
      "Non-trainable params: 0\n",
      "_________________________________________________________________\n"
     ]
    }
   ],
   "source": [
    "#Imprimo un resumen del modelo\n",
    "model.summary()"
   ]
  },
  {
   "cell_type": "code",
   "execution_count": 65,
   "metadata": {
    "ExecuteTime": {
     "end_time": "2020-10-31T14:14:57.450608Z",
     "start_time": "2020-10-31T14:14:57.129680Z"
    }
   },
   "outputs": [
    {
     "data": {
      "image/png": "[encoded data removed]",
      "text/plain": [
       "<IPython.core.display.Image object>"
      ]
     },
     "execution_count": 65,
     "metadata": {},
     "output_type": "execute_result"
    }
   ],
   "source": [
    "#Grafico el modelo\n",
    "plot_model(model, show_shapes = True)"
   ]
  },
  {
   "cell_type": "code",
   "execution_count": 66,
   "metadata": {
    "ExecuteTime": {
     "end_time": "2020-10-31T17:51:16.276476Z",
     "start_time": "2020-10-31T14:14:57.453543Z"
    }
   },
   "outputs": [],
   "source": [
    "#Entreno el modelo\n",
    "history = model.fit(X_train, y_train,\n",
    "                    epochs=50,\n",
    "                    verbose=False,\n",
    "                    validation_data=(X_test, y_test),\n",
    "                    batch_size=100).history"
   ]
  },
  {
   "cell_type": "code",
   "execution_count": 67,
   "metadata": {
    "ExecuteTime": {
     "end_time": "2020-10-31T17:53:22.795430Z",
     "start_time": "2020-10-31T17:51:16.279470Z"
    }
   },
   "outputs": [
    {
     "name": "stdout",
     "output_type": "stream",
     "text": [
      "Train loss: 0.2181262354540825\n",
      "Train accuracy: 0.969980001449585 \n",
      "\n",
      "Test loss: 0.44515823185443876\n",
      "Test accuracy: 0.8686000108718872\n"
     ]
    }
   ],
   "source": [
    "#Calculo el accuracy y la pérdida para Train y Test\n",
    "train_scores = model.evaluate(X_train, y_train, verbose=0)\n",
    "print(\"Train loss:\", train_scores[0])\n",
    "print(\"Train accuracy:\", train_scores[1],'\\n')\n",
    "\n",
    "test_scores = model.evaluate(X_test, y_test, verbose=0)\n",
    "print(\"Test loss:\", test_scores[0])\n",
    "print(\"Test accuracy:\", test_scores[1])"
   ]
  },
  {
   "cell_type": "code",
   "execution_count": 68,
   "metadata": {
    "ExecuteTime": {
     "end_time": "2020-10-31T17:53:23.164256Z",
     "start_time": "2020-10-31T17:53:22.804409Z"
    }
   },
   "outputs": [
    {
     "data": {
      "image/png": "[encoded data removed]",
      "text/plain": [
       "<Figure size 720x360 with 2 Axes>"
      ]
     },
     "metadata": {
      "needs_background": "light"
     },
     "output_type": "display_data"
    }
   ],
   "source": [
    "#Grafico la pérdida y la exactitud de acuerdo a las épocas\n",
    "plot_history(history)\n",
    "plt.show()"
   ]
  },
  {
   "cell_type": "code",
   "execution_count": 69,
   "metadata": {
    "ExecuteTime": {
     "end_time": "2020-10-31T17:53:23.179080Z",
     "start_time": "2020-10-31T17:53:23.167276Z"
    }
   },
   "outputs": [],
   "source": [
    "#winsound.Beep(freq, duration)"
   ]
  },
  {
   "cell_type": "markdown",
   "metadata": {},
   "source": [
    "**Elección del número de épocas**"
   ]
  },
  {
   "cell_type": "markdown",
   "metadata": {},
   "source": [
    "Al evaluar el gráfico de Loss y Accuracy, se puede ver que la pérdida disminuye a medida que aumentan las épocas. En el gráfico de accuracy, se puede ver que, a partir de la época 30, empieza a existir overfitting, ya que la diferencia entre el Train y Test aumenta. Por todas estas consideraciones, es que decido utilizar para el modelo un número de **30 épocas**."
   ]
  },
  {
   "cell_type": "markdown",
   "metadata": {},
   "source": [
    "- Red Neuronal con dataset TRAIN y DEV para `30 épocas`"
   ]
  },
  {
   "cell_type": "code",
   "execution_count": 70,
   "metadata": {
    "ExecuteTime": {
     "end_time": "2020-10-31T17:53:23.195037Z",
     "start_time": "2020-10-31T17:53:23.181030Z"
    }
   },
   "outputs": [],
   "source": [
    "#Determino el número de mi semilla\n",
    "my_seed = 42\n",
    "\n",
    "seed(my_seed)\n",
    "tf.random.set_seed(my_seed)"
   ]
  },
  {
   "cell_type": "code",
   "execution_count": 71,
   "metadata": {
    "ExecuteTime": {
     "end_time": "2020-10-31T17:53:23.209955Z",
     "start_time": "2020-10-31T17:53:23.195990Z"
    }
   },
   "outputs": [
    {
     "name": "stdout",
     "output_type": "stream",
     "text": [
      "3000\n"
     ]
    }
   ],
   "source": [
    "#Determino el input\n",
    "input_dim = X_train.shape[1]\n",
    "print(input_dim)"
   ]
  },
  {
   "cell_type": "code",
   "execution_count": 72,
   "metadata": {
    "ExecuteTime": {
     "end_time": "2020-10-31T17:53:23.362587Z",
     "start_time": "2020-10-31T17:53:23.213945Z"
    }
   },
   "outputs": [],
   "source": [
    "#Defino la red neuronal\n",
    "model_30 = Sequential()\n",
    "model_30.add(layers.Dense(3000, input_dim=input_dim, activation='relu'))\n",
    "model_30.add(layers.Dense(2000, input_dim=input_dim, activation='relu', kernel_regularizer=l2(0.001)))\n",
    "model_30.add(layers.Dense(1000, input_dim=input_dim, activation='relu', kernel_regularizer=l2(0.001)))\n",
    "model_30.add(layers.Dense(100, input_dim=input_dim, activation='relu', kernel_regularizer=l2(0.001)))\n",
    "model_30.add(layers.Dense(10, input_dim=input_dim, activation='relu', kernel_regularizer=l2(0.001)))\n",
    "model_30.add(layers.Dense(2, activation='sigmoid'))"
   ]
  },
  {
   "cell_type": "code",
   "execution_count": 73,
   "metadata": {
    "ExecuteTime": {
     "end_time": "2020-10-31T17:53:23.393593Z",
     "start_time": "2020-10-31T17:53:23.364589Z"
    }
   },
   "outputs": [],
   "source": [
    "#Realizo la compilación con los parámetros seleccionados\n",
    "model_30.compile(loss='binary_crossentropy', \n",
    "                 optimizer= 'sgd', \n",
    "                 metrics=['accuracy'])"
   ]
  },
  {
   "cell_type": "code",
   "execution_count": 74,
   "metadata": {
    "ExecuteTime": {
     "end_time": "2020-10-31T17:53:23.409545Z",
     "start_time": "2020-10-31T17:53:23.395583Z"
    }
   },
   "outputs": [
    {
     "name": "stdout",
     "output_type": "stream",
     "text": [
      "Model: \"sequential_2\"\n",
      "_________________________________________________________________\n",
      "Layer (type)                 Output Shape              Param #   \n",
      "=================================================================\n",
      "dense_7 (Dense)              (None, 3000)              9003000   \n",
      "_________________________________________________________________\n",
      "dense_8 (Dense)              (None, 2000)              6002000   \n",
      "_________________________________________________________________\n",
      "dense_9 (Dense)              (None, 1000)              2001000   \n",
      "_________________________________________________________________\n",
      "dense_10 (Dense)             (None, 100)               100100    \n",
      "_________________________________________________________________\n",
      "dense_11 (Dense)             (None, 10)                1010      \n",
      "_________________________________________________________________\n",
      "dense_12 (Dense)             (None, 2)                 22        \n",
      "=================================================================\n",
      "Total params: 17,107,132\n",
      "Trainable params: 17,107,132\n",
      "Non-trainable params: 0\n",
      "_________________________________________________________________\n"
     ]
    }
   ],
   "source": [
    "#Imprimo un resumen del modelo\n",
    "model_30.summary()"
   ]
  },
  {
   "cell_type": "code",
   "execution_count": 75,
   "metadata": {
    "ExecuteTime": {
     "end_time": "2020-10-31T17:53:23.671260Z",
     "start_time": "2020-10-31T17:53:23.413535Z"
    }
   },
   "outputs": [
    {
     "data": {
      "image/png": "[encoded data removed]",
      "text/plain": [
       "<IPython.core.display.Image object>"
      ]
     },
     "execution_count": 75,
     "metadata": {},
     "output_type": "execute_result"
    }
   ],
   "source": [
    "#Grafico el modelo\n",
    "plot_model(model_30, show_shapes = True)"
   ]
  },
  {
   "cell_type": "code",
   "execution_count": 76,
   "metadata": {
    "ExecuteTime": {
     "end_time": "2020-10-31T20:06:17.839565Z",
     "start_time": "2020-10-31T17:53:23.673254Z"
    }
   },
   "outputs": [],
   "source": [
    "#Entreno el modelo\n",
    "history_30 = model_30.fit(X_train, y_train,\n",
    "                    epochs=30,\n",
    "                    verbose=False,\n",
    "                    validation_data=(X_test, y_test),\n",
    "                    batch_size=100).history"
   ]
  },
  {
   "cell_type": "code",
   "execution_count": 77,
   "metadata": {
    "ExecuteTime": {
     "end_time": "2020-10-31T20:08:25.681173Z",
     "start_time": "2020-10-31T20:06:17.842556Z"
    }
   },
   "outputs": [
    {
     "name": "stdout",
     "output_type": "stream",
     "text": [
      "Train loss: 0.6214522287416459\n",
      "Train accuracy: 0.903980016708374 \n",
      "\n",
      "Test loss: 0.7033260786056519\n",
      "Test accuracy: 0.866599977016449\n"
     ]
    }
   ],
   "source": [
    "#Calculo el accuracy y la pérdida para Train y Test\n",
    "train_scores = model_30.evaluate(X_train, y_train, verbose=0)\n",
    "print(\"Train loss:\", train_scores[0])\n",
    "print(\"Train accuracy:\", train_scores[1],'\\n')\n",
    "\n",
    "test_scores = model_30.evaluate(X_test, y_test, verbose=0)\n",
    "print(\"Test loss:\", test_scores[0])\n",
    "print(\"Test accuracy:\", test_scores[1])"
   ]
  },
  {
   "cell_type": "code",
   "execution_count": 78,
   "metadata": {
    "ExecuteTime": {
     "end_time": "2020-10-31T20:08:26.071140Z",
     "start_time": "2020-10-31T20:08:25.683171Z"
    }
   },
   "outputs": [
    {
     "data": {
      "image/png": "[encoded data removed]",
      "text/plain": [
       "<Figure size 720x360 with 2 Axes>"
      ]
     },
     "metadata": {
      "needs_background": "light"
     },
     "output_type": "display_data"
    }
   ],
   "source": [
    "#Grafico la pérdida y la exactitud de acuerdo a las épocas\n",
    "plot_history(history_30)\n",
    "plt.show()"
   ]
  },
  {
   "cell_type": "code",
   "execution_count": 79,
   "metadata": {
    "ExecuteTime": {
     "end_time": "2020-10-31T20:08:27.098762Z",
     "start_time": "2020-10-31T20:08:26.074127Z"
    }
   },
   "outputs": [],
   "source": [
    "winsound.Beep(freq, duration)"
   ]
  },
  {
   "cell_type": "markdown",
   "metadata": {},
   "source": [
    "Al evaluar el gráfico de Loss y Accuracy, se puede ver que la pérdida disminuye a medida que aumentan las épocas. En el gráfico de accuracy, se puede ver que, en la época 30, el accuracy es muy bueno mientras que a su vez  la diferencia entre el Train y Test no es grande."
   ]
  },
  {
   "cell_type": "markdown",
   "metadata": {},
   "source": [
    "**Predicción y matriz de confusión**"
   ]
  },
  {
   "cell_type": "markdown",
   "metadata": {},
   "source": [
    "- Dado que para realizar la Red Neuronal y pedir en la capa de salida dos nodos, las etiquetas del y_test fueron encondeadas. Ahora volveré a definir a y_test."
   ]
  },
  {
   "cell_type": "code",
   "execution_count": 80,
   "metadata": {
    "ExecuteTime": {
     "end_time": "2020-10-31T20:08:27.129681Z",
     "start_time": "2020-10-31T20:08:27.104739Z"
    }
   },
   "outputs": [
    {
     "name": "stdout",
     "output_type": "stream",
     "text": [
      "0       0\n",
      "1       0\n",
      "2       0\n",
      "3       0\n",
      "4       0\n",
      "       ..\n",
      "4995    1\n",
      "4996    1\n",
      "4997    1\n",
      "4998    1\n",
      "4999    1\n",
      "Name: label_positiva, Length: 5000, dtype: uint8\n"
     ]
    }
   ],
   "source": [
    "#Defino nuevamente el y_test: 0 para negativa y 1 para positiva\n",
    "y_test = dataset_dev_bin.iloc[:,5]\n",
    "print(y_test)"
   ]
  },
  {
   "cell_type": "markdown",
   "metadata": {},
   "source": [
    "- Predicciones"
   ]
  },
  {
   "cell_type": "markdown",
   "metadata": {},
   "source": [
    "Con el comando `.predict` devolverá la probabilidad para cada instancias, mientras que el comando `.predict_class` devolverá la clase de la predicción."
   ]
  },
  {
   "cell_type": "code",
   "execution_count": 81,
   "metadata": {
    "ExecuteTime": {
     "end_time": "2020-10-31T20:08:29.143304Z",
     "start_time": "2020-10-31T20:08:27.137630Z"
    }
   },
   "outputs": [],
   "source": [
    "#Hago las predicciones \n",
    "y_pred_test_round = model_30.predict_classes(X_test)"
   ]
  },
  {
   "cell_type": "code",
   "execution_count": 82,
   "metadata": {
    "ExecuteTime": {
     "end_time": "2020-10-31T20:08:29.158269Z",
     "start_time": "2020-10-31T20:08:29.145304Z"
    }
   },
   "outputs": [],
   "source": [
    "#for i in y_pred_test_round:\n",
    "#    print(i)"
   ]
  },
  {
   "cell_type": "code",
   "execution_count": 83,
   "metadata": {
    "ExecuteTime": {
     "end_time": "2020-10-31T20:08:29.173228Z",
     "start_time": "2020-10-31T20:08:29.160264Z"
    }
   },
   "outputs": [],
   "source": [
    "#Función para plotear la matriz de confusión\n",
    "def confusion_bin(ytest,y_pred):\n",
    "    names=['Negativa','Positiva']\n",
    "    cm=confusion_matrix(ytest,y_pred)\n",
    "    f,ax=plt.subplots(figsize=(5,5))\n",
    "    sns.heatmap(cm,annot=True,linewidth=.5,fmt=\".0f\",ax=ax, cmap = 'magma')\n",
    "    plt.xlabel(\"y_pred\")\n",
    "    plt.ylabel(\"y_true\")\n",
    "    ax.set_xticklabels(names, rotation = 45)\n",
    "    ax.set_yticklabels(names, rotation = 45)\n",
    "    plt.show()\n",
    "\n",
    "    return"
   ]
  },
  {
   "cell_type": "code",
   "execution_count": 84,
   "metadata": {
    "ExecuteTime": {
     "end_time": "2020-10-31T20:08:29.356739Z",
     "start_time": "2020-10-31T20:08:29.175224Z"
    }
   },
   "outputs": [
    {
     "data": {
      "image/png": "[encoded data removed]",
      "text/plain": [
       "<Figure size 360x360 with 2 Axes>"
      ]
     },
     "metadata": {
      "needs_background": "light"
     },
     "output_type": "display_data"
    }
   ],
   "source": [
    "#Matriz de confusión para TEST\n",
    "confusion_bin(y_test, y_pred_test_round)"
   ]
  },
  {
   "cell_type": "markdown",
   "metadata": {},
   "source": [
    "**CONCLUSIÓN**: el nuevo modelo resultó en un accuracy para Train de 0.904 y para Test de 0.867. Predice de manera correcta un 86% de la etiqueta negativa y un 88% de la etiqueta positiva en el Test."
   ]
  },
  {
   "cell_type": "markdown",
   "metadata": {},
   "source": [
    "**Modelo a probrar con el dataset TEST**"
   ]
  },
  {
   "cell_type": "markdown",
   "metadata": {},
   "source": [
    "A continuación probaré este modelo de Red Neuronal en el dataset TEST, el cual no utilicé aún. Esta es una manera de validar el modelo."
   ]
  },
  {
   "cell_type": "code",
   "execution_count": 85,
   "metadata": {
    "ExecuteTime": {
     "end_time": "2020-10-31T20:08:29.403612Z",
     "start_time": "2020-10-31T20:08:29.358733Z"
    }
   },
   "outputs": [],
   "source": [
    "# Tomamos la lista de palabras y el vector que nos dice la calificación para TRAIN\n",
    "lista_reviews_train_bin = list(dataset_train_bin['clean'].values)\n",
    "label_train_bin = dataset_train_bin.iloc[:, [4,5]]\n",
    "\n",
    "# Tomamos la lista de palabras y el vector que nos dice la calificación para TEST\n",
    "lista_reviews_test_bin = list(dataset_test_bin['clean'].values)\n",
    "label_test_bin = dataset_test_bin.iloc[:, [4,5]]\n",
    "\n",
    "#print(label_train_bin)\n",
    "#print(dataset_test_bin)"
   ]
  },
  {
   "cell_type": "code",
   "execution_count": 86,
   "metadata": {
    "ExecuteTime": {
     "end_time": "2020-10-31T20:08:39.239650Z",
     "start_time": "2020-10-31T20:08:29.406607Z"
    }
   },
   "outputs": [
    {
     "name": "stdout",
     "output_type": "stream",
     "text": [
      "(200000, 3000)\n",
      "(5000, 3000)\n"
     ]
    }
   ],
   "source": [
    "#Instanciamos \n",
    "tfidf_bin = TfidfVectorizer(ngram_range = (1,2), min_df = 30, max_features = 3000)\n",
    "\n",
    "#Entreno y transformo en TRAIN\n",
    "matriz_reviews_train_bin = tfidf_bin.fit_transform(lista_reviews_train_bin)\n",
    "\n",
    "#Transformo en TEST\n",
    "matriz_reviews_test_bin = tfidf_bin.transform(lista_reviews_test_bin)\n",
    "\n",
    "print(matriz_reviews_train_bin.shape)\n",
    "print(matriz_reviews_test_bin.shape)"
   ]
  },
  {
   "cell_type": "code",
   "execution_count": 87,
   "metadata": {
    "ExecuteTime": {
     "end_time": "2020-10-31T20:08:39.334503Z",
     "start_time": "2020-10-31T20:08:39.241645Z"
    }
   },
   "outputs": [],
   "source": [
    "#Cambio el tipo de dato de la matriz 'matriz_reviews_train_bin'\n",
    "matriz_reviews_train_bin = matriz_reviews_train_bin.astype('float32')\n",
    "\n",
    "#Cambio el tipo de dato de la matriz 'matriz_reviews_test_bin'\n",
    "matriz_reviews_test_bin = matriz_reviews_test_bin.astype('float32')"
   ]
  },
  {
   "cell_type": "markdown",
   "metadata": {
    "ExecuteTime": {
     "end_time": "2020-09-28T19:56:06.919841Z",
     "start_time": "2020-09-28T19:56:06.886388Z"
    }
   },
   "source": [
    "- Modelado"
   ]
  },
  {
   "cell_type": "code",
   "execution_count": 88,
   "metadata": {
    "ExecuteTime": {
     "end_time": "2020-10-31T20:08:40.383699Z",
     "start_time": "2020-10-31T20:08:39.337494Z"
    }
   },
   "outputs": [
    {
     "name": "stdout",
     "output_type": "stream",
     "text": [
      "(200000, 3000)\n",
      "(200000, 2)\n"
     ]
    }
   ],
   "source": [
    "#Con el dataset TRAIN determino el X_train y el y_train\n",
    "X_train = matriz_reviews_train_bin.toarray()\n",
    "y_train = label_train_bin\n",
    "\n",
    "print(X_train.shape)\n",
    "print(y_train.shape)"
   ]
  },
  {
   "cell_type": "code",
   "execution_count": 89,
   "metadata": {
    "ExecuteTime": {
     "end_time": "2020-10-31T20:08:40.429575Z",
     "start_time": "2020-10-31T20:08:40.387696Z"
    }
   },
   "outputs": [
    {
     "name": "stdout",
     "output_type": "stream",
     "text": [
      "(5000, 3000)\n",
      "(5000, 2)\n"
     ]
    }
   ],
   "source": [
    "#Con el dataset TEST determino el X_test y el y_test\n",
    "X_test = matriz_reviews_test_bin.toarray()\n",
    "y_test = label_test_bin\n",
    "\n",
    "print(X_test.shape)\n",
    "print(y_test.shape)"
   ]
  },
  {
   "cell_type": "markdown",
   "metadata": {},
   "source": [
    "- Red Neuronal con dataset TRAIN y TEST para `30 épocas`"
   ]
  },
  {
   "cell_type": "markdown",
   "metadata": {},
   "source": [
    "- Lo primero que haré será establecer una semilla, para poder reproducir los resultados en el futuro."
   ]
  },
  {
   "cell_type": "code",
   "execution_count": 90,
   "metadata": {
    "ExecuteTime": {
     "end_time": "2020-10-31T20:08:40.460495Z",
     "start_time": "2020-10-31T20:08:40.431570Z"
    }
   },
   "outputs": [],
   "source": [
    "#Determino el número de mi semilla\n",
    "my_seed = 42\n",
    "\n",
    "seed(my_seed)\n",
    "tf.random.set_seed(my_seed)"
   ]
  },
  {
   "cell_type": "code",
   "execution_count": 91,
   "metadata": {
    "ExecuteTime": {
     "end_time": "2020-10-31T20:08:40.475453Z",
     "start_time": "2020-10-31T20:08:40.463485Z"
    }
   },
   "outputs": [
    {
     "name": "stdout",
     "output_type": "stream",
     "text": [
      "3000\n"
     ]
    }
   ],
   "source": [
    "#Determino el input\n",
    "input_dim = X_train.shape[1]\n",
    "print(input_dim)"
   ]
  },
  {
   "cell_type": "code",
   "execution_count": 92,
   "metadata": {
    "ExecuteTime": {
     "end_time": "2020-10-31T20:08:40.645995Z",
     "start_time": "2020-10-31T20:08:40.478445Z"
    }
   },
   "outputs": [],
   "source": [
    "#Defino la red neuronal\n",
    "model_test = Sequential()\n",
    "model_test.add(layers.Dense(3000, input_dim=input_dim, activation='relu'))\n",
    "model_test.add(layers.Dense(2000, input_dim=input_dim, activation='relu', kernel_regularizer=l2(0.001)))\n",
    "model_test.add(layers.Dense(1000, input_dim=input_dim, activation='relu', kernel_regularizer=l2(0.001)))\n",
    "model_test.add(layers.Dense(100, input_dim=input_dim, activation='relu', kernel_regularizer=l2(0.001)))\n",
    "model_test.add(layers.Dense(10, input_dim=input_dim, activation='relu', kernel_regularizer=l2(0.001)))\n",
    "model_test.add(layers.Dense(2, activation='sigmoid'))"
   ]
  },
  {
   "cell_type": "code",
   "execution_count": 93,
   "metadata": {
    "ExecuteTime": {
     "end_time": "2020-10-31T20:08:40.691918Z",
     "start_time": "2020-10-31T20:08:40.649987Z"
    }
   },
   "outputs": [],
   "source": [
    "#Realizo la compilación con los parámetros seleccionados\n",
    "model_test.compile(loss='binary_crossentropy', \n",
    "                   optimizer= 'sgd', \n",
    "                   metrics=['accuracy'])"
   ]
  },
  {
   "cell_type": "code",
   "execution_count": 94,
   "metadata": {
    "ExecuteTime": {
     "end_time": "2020-10-31T20:08:40.706884Z",
     "start_time": "2020-10-31T20:08:40.693916Z"
    }
   },
   "outputs": [
    {
     "name": "stdout",
     "output_type": "stream",
     "text": [
      "Model: \"sequential_3\"\n",
      "_________________________________________________________________\n",
      "Layer (type)                 Output Shape              Param #   \n",
      "=================================================================\n",
      "dense_13 (Dense)             (None, 3000)              9003000   \n",
      "_________________________________________________________________\n",
      "dense_14 (Dense)             (None, 2000)              6002000   \n",
      "_________________________________________________________________\n",
      "dense_15 (Dense)             (None, 1000)              2001000   \n",
      "_________________________________________________________________\n",
      "dense_16 (Dense)             (None, 100)               100100    \n",
      "_________________________________________________________________\n",
      "dense_17 (Dense)             (None, 10)                1010      \n",
      "_________________________________________________________________\n",
      "dense_18 (Dense)             (None, 2)                 22        \n",
      "=================================================================\n",
      "Total params: 17,107,132\n",
      "Trainable params: 17,107,132\n",
      "Non-trainable params: 0\n",
      "_________________________________________________________________\n"
     ]
    }
   ],
   "source": [
    "#Imprimo un resumen del modelo\n",
    "model_test.summary()"
   ]
  },
  {
   "cell_type": "code",
   "execution_count": 95,
   "metadata": {
    "ExecuteTime": {
     "end_time": "2020-10-31T20:08:40.983624Z",
     "start_time": "2020-10-31T20:08:40.708889Z"
    }
   },
   "outputs": [
    {
     "data": {
      "image/png": "[encoded data removed]",
      "text/plain": [
       "<IPython.core.display.Image object>"
      ]
     },
     "execution_count": 95,
     "metadata": {},
     "output_type": "execute_result"
    }
   ],
   "source": [
    "#Grafico el modelo\n",
    "plot_model(model_test, show_shapes = True)"
   ]
  },
  {
   "cell_type": "code",
   "execution_count": 96,
   "metadata": {
    "ExecuteTime": {
     "end_time": "2020-10-31T22:24:39.377835Z",
     "start_time": "2020-10-31T20:08:40.985618Z"
    }
   },
   "outputs": [],
   "source": [
    "#Entreno el modelo\n",
    "history_test = model_test.fit(X_train, y_train,\n",
    "                              epochs=30,\n",
    "                              verbose=False,\n",
    "                              validation_data=(X_test, y_test),\n",
    "                              batch_size=100).history"
   ]
  },
  {
   "cell_type": "code",
   "execution_count": 97,
   "metadata": {
    "ExecuteTime": {
     "end_time": "2020-10-31T22:26:45.789987Z",
     "start_time": "2020-10-31T22:24:39.380827Z"
    }
   },
   "outputs": [
    {
     "name": "stdout",
     "output_type": "stream",
     "text": [
      "Train loss: 0.6214522287416459\n",
      "Train accuracy: 0.903980016708374 \n",
      "\n",
      "Test loss: 0.697654731464386\n",
      "Test accuracy: 0.8622000217437744\n"
     ]
    }
   ],
   "source": [
    "#Calculo el accuracy y la pérdida para Train y Test\n",
    "train_scores = model_test.evaluate(X_train, y_train, verbose=0)\n",
    "print(\"Train loss:\", train_scores[0])\n",
    "print(\"Train accuracy:\", train_scores[1],'\\n')\n",
    "\n",
    "test_scores = model_test.evaluate(X_test, y_test, verbose=0)\n",
    "print(\"Test loss:\", test_scores[0])\n",
    "print(\"Test accuracy:\", test_scores[1])"
   ]
  },
  {
   "cell_type": "code",
   "execution_count": 98,
   "metadata": {
    "ExecuteTime": {
     "end_time": "2020-10-31T22:26:46.238824Z",
     "start_time": "2020-10-31T22:26:45.791983Z"
    }
   },
   "outputs": [
    {
     "data": {
      "image/png": "[encoded data removed]",
      "text/plain": [
       "<Figure size 720x360 with 2 Axes>"
      ]
     },
     "metadata": {
      "needs_background": "light"
     },
     "output_type": "display_data"
    }
   ],
   "source": [
    "#Grafico la pérdida y la exactitud de acuerdo a las épocas\n",
    "plot_history(history_test)\n",
    "plt.show()"
   ]
  },
  {
   "cell_type": "code",
   "execution_count": 99,
   "metadata": {
    "ExecuteTime": {
     "end_time": "2020-10-31T22:26:46.254774Z",
     "start_time": "2020-10-31T22:26:46.240784Z"
    }
   },
   "outputs": [],
   "source": [
    "#winsound.Beep(freq, duration)"
   ]
  },
  {
   "cell_type": "markdown",
   "metadata": {},
   "source": [
    "Al evaluar el gráfico de Loss y Accuracy, se puede ver que la pérdida disminuye a medida que aumentan las épocas. En el gráfico de accuracy, se puede ver que, en la época 30, el accuracy es muy bueno mientras que a su vez  la diferencia entre el Train y Test no es grande."
   ]
  },
  {
   "cell_type": "markdown",
   "metadata": {},
   "source": [
    "**Predicción y matriz de confusión**"
   ]
  },
  {
   "cell_type": "markdown",
   "metadata": {},
   "source": [
    "- Dado que para realizar la red neuronal y pedir en la capa de salida dos nodos, las etiquetas del y_test fueron encondeado. Ahora volveré a definir a y_test."
   ]
  },
  {
   "cell_type": "code",
   "execution_count": 100,
   "metadata": {
    "ExecuteTime": {
     "end_time": "2020-10-31T22:26:46.269740Z",
     "start_time": "2020-10-31T22:26:46.256740Z"
    }
   },
   "outputs": [
    {
     "name": "stdout",
     "output_type": "stream",
     "text": [
      "0       0\n",
      "1       0\n",
      "2       0\n",
      "3       0\n",
      "4       0\n",
      "       ..\n",
      "4995    1\n",
      "4996    1\n",
      "4997    1\n",
      "4998    1\n",
      "4999    1\n",
      "Name: label_positiva, Length: 5000, dtype: uint8\n"
     ]
    }
   ],
   "source": [
    "#Defino nuevamete el y_test\n",
    "y_test = dataset_test_bin.iloc[:,5]\n",
    "print(y_test)"
   ]
  },
  {
   "cell_type": "markdown",
   "metadata": {},
   "source": [
    "- Predicciones"
   ]
  },
  {
   "cell_type": "markdown",
   "metadata": {},
   "source": [
    "Con el comando `.predict` devolverá la probabilidad para cada instancias, mientras que el comando `.predict_class` devolverá la clase de la predicción."
   ]
  },
  {
   "cell_type": "code",
   "execution_count": 101,
   "metadata": {
    "ExecuteTime": {
     "end_time": "2020-10-31T22:26:48.253880Z",
     "start_time": "2020-10-31T22:26:46.271701Z"
    }
   },
   "outputs": [],
   "source": [
    "#Hago las predicciones \n",
    "y_pred_test_round = model_test.predict_classes(X_test)"
   ]
  },
  {
   "cell_type": "code",
   "execution_count": 102,
   "metadata": {
    "ExecuteTime": {
     "end_time": "2020-10-31T22:26:48.268859Z",
     "start_time": "2020-10-31T22:26:48.255872Z"
    }
   },
   "outputs": [],
   "source": [
    "#for i in y_pred_test_round:\n",
    "#    print(i)"
   ]
  },
  {
   "cell_type": "code",
   "execution_count": 103,
   "metadata": {
    "ExecuteTime": {
     "end_time": "2020-10-31T22:26:48.438432Z",
     "start_time": "2020-10-31T22:26:48.270852Z"
    }
   },
   "outputs": [
    {
     "data": {
      "image/png": "[encoded data removed]",
      "text/plain": [
       "<Figure size 360x360 with 2 Axes>"
      ]
     },
     "metadata": {
      "needs_background": "light"
     },
     "output_type": "display_data"
    }
   ],
   "source": [
    "#Matriz de confusión para TEST\n",
    "confusion_bin(y_test, y_pred_test_round)"
   ]
  },
  {
   "cell_type": "markdown",
   "metadata": {},
   "source": [
    "**CONCLUSIÓN**: La validación del modelo en el dataset TEST resultó en resultados similares al modelo evaluado con el dataset DEV. El accuracy para Train fue de 0.904 y para Test de 0.862. Esto quiere decir, que el modelo, al ser probado con datos que nunca ha visto (ni para entrenar) resulta en un buen modelo."
   ]
  },
  {
   "cell_type": "markdown",
   "metadata": {},
   "source": [
    "### COMPARACIÓN CON EL MODELO BENCHMARK"
   ]
  },
  {
   "cell_type": "markdown",
   "metadata": {},
   "source": [
    "El nuevo modelo resultó en un aumento de casi un 10% en Train y de un 4% en Test, respecto al modelo benchmark.\n",
    "\n",
    "La predicción correcta de la etiqueta positiva aumentó en un 13.20% (benchmark: 74.05%; nuevo modelo: 87.25%). \n",
    "\n",
    "Cabe destacar que si bien, la predicción correcta de la etiqueta negativa disminuyó  un poco mas de un 2% respecto al benchmark, el modelo es mucho mas equilibrado: predice correctamente un porcentaje muy similar de las etiquetas positivas y negativas, no teniendo un sesgo hacia las negativas como se puede observa en el modelo benckmark."
   ]
  },
  {
   "attachments": {
    "image.png": {
     "image/png": "[encoded data removed]"
    }
   },
   "cell_type": "markdown",
   "metadata": {},
   "source": [
    "![image.png](attachment:image.png)"
   ]
  },
  {
   "cell_type": "markdown",
   "metadata": {},
   "source": [
    "## CONCLUSIÓN FINAL"
   ]
  },
  {
   "cell_type": "markdown",
   "metadata": {},
   "source": [
    "Al mejorar el Análisis Exploratorio de Datos (EDA), se pudo observar que, algunas palabras de importacia y que se encontraban en alta frecuencia en las etiquetas positivas y negativas, eran eliminadas por ser contenidas dentro de las `stop words` provistas por la librería spaCy. \n",
    "\n",
    "Por otro lado, la utlización de un modelo de Red Neuronal, mejoró el rendimiento del modelo benchmark tanto en Train como en Test. Además, el porcentaje de predicción correcta tanto de las etiquetas posiitivas como negativas fue muy equilibrado.\n",
    "\n",
    "Por otro lado, el nuevo modelo generado no sólo mejoró el rendimiento en relación al benchmark, sino que además, al evaluarlo con el dataset TEST (dataset que no fue usado para entrenar) para validarlo, generó un rendimiento similar al obtenido con el dataset DEV (dataset con el cual fue optmizado).\n",
    "\n",
    "A modo de resumen final, la combinación de la mejora del EDA y la generación de un modelo de Red Neuronal, resultó en una mejora al modelo planteado en el proyecto 3 (llamado hasta ahora modelo benchmark)."
   ]
  },
  {
   "cell_type": "markdown",
   "metadata": {},
   "source": [
    "**NOTA: ¿Sería necesario incorporar información de otra fuente?**\n",
    "\n",
    "A través de la estrategia de mejorar el EDA incorporando palabras nuevas y usando un modelo de Redes Neuronales, el rendimiento general del modelo mejoró. Por ello considero que no sería necesario incorporar otra fuente de información adicional."
   ]
  },
  {
   "cell_type": "code",
   "execution_count": null,
   "metadata": {},
   "outputs": [],
   "source": []
  }
 ],
 "metadata": {
  "colab": {
   "collapsed_sections": [],
   "name": "DS_Proyecto_03_NLP.ipynb",
   "provenance": []
  },
  "kernelspec": {
   "display_name": "Python 3",
   "language": "python",
   "name": "python3"
  },
  "language_info": {
   "codemirror_mode": {
    "name": "ipython",
    "version": 3
   },
   "file_extension": ".py",
   "mimetype": "text/x-python",
   "name": "python",
   "nbconvert_exporter": "python",
   "pygments_lexer": "ipython3",
   "version": "3.8.3"
  }
 },
 "nbformat": 4,
 "nbformat_minor": 4
}
